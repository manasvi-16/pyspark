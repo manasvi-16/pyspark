{
  "nbformat": 4,
  "nbformat_minor": 0,
  "metadata": {
    "colab": {
      "name": "Regression_spark.ipynb",
      "provenance": []
    },
    "kernelspec": {
      "name": "python3",
      "display_name": "Python 3"
    },
    "language_info": {
      "name": "python"
    }
  },
  "cells": [
    {
      "cell_type": "code",
      "execution_count": 1,
      "metadata": {
        "colab": {
          "base_uri": "https://localhost:8080/"
        },
        "id": "C4lJt36d7FVY",
        "outputId": "07f8c36b-47ee-456d-cd4c-9b6df6bb97d5"
      },
      "outputs": [
        {
          "output_type": "stream",
          "name": "stdout",
          "text": [
            "Collecting pyspark\n",
            "  Downloading pyspark-3.2.1.tar.gz (281.4 MB)\n",
            "\u001b[K     |████████████████████████████████| 281.4 MB 30 kB/s \n",
            "\u001b[?25hCollecting py4j==0.10.9.3\n",
            "  Downloading py4j-0.10.9.3-py2.py3-none-any.whl (198 kB)\n",
            "\u001b[K     |████████████████████████████████| 198 kB 43.2 MB/s \n",
            "\u001b[?25hBuilding wheels for collected packages: pyspark\n",
            "  Building wheel for pyspark (setup.py) ... \u001b[?25l\u001b[?25hdone\n",
            "  Created wheel for pyspark: filename=pyspark-3.2.1-py2.py3-none-any.whl size=281853642 sha256=e8b2fdec6ef02b832a08798564ccf7a92971a707895eed7475fdb0bb75f5d1af\n",
            "  Stored in directory: /root/.cache/pip/wheels/9f/f5/07/7cd8017084dce4e93e84e92efd1e1d5334db05f2e83bcef74f\n",
            "Successfully built pyspark\n",
            "Installing collected packages: py4j, pyspark\n",
            "Successfully installed py4j-0.10.9.3 pyspark-3.2.1\n"
          ]
        }
      ],
      "source": [
        "!pip install pyspark"
      ]
    },
    {
      "cell_type": "code",
      "source": [
        "from pyspark.sql import SparkSession"
      ],
      "metadata": {
        "id": "CeRdL7pV7MTd"
      },
      "execution_count": 2,
      "outputs": []
    },
    {
      "cell_type": "code",
      "source": [
        "session = SparkSession.builder.appName('regression').master('local').getOrCreate()"
      ],
      "metadata": {
        "id": "DhcF59YC7jZc"
      },
      "execution_count": 3,
      "outputs": []
    },
    {
      "cell_type": "code",
      "source": [
        "data = session.read.csv('/content/energy_cooling.csv',header = True, inferSchema = True)"
      ],
      "metadata": {
        "id": "P-wSZ3-z7zp8"
      },
      "execution_count": 4,
      "outputs": []
    },
    {
      "cell_type": "code",
      "source": [
        "data.show(5)"
      ],
      "metadata": {
        "colab": {
          "base_uri": "https://localhost:8080/"
        },
        "id": "nDPO1_PE8U9n",
        "outputId": "956f4bf8-a3ff-402f-ad77-28306511091c"
      },
      "execution_count": 5,
      "outputs": [
        {
          "output_type": "stream",
          "name": "stdout",
          "text": [
            "+----+-----+-----+------+---+---+---+---+-----+\n",
            "|  X1|   X2|   X3|    X4| X5| X6| X7| X8|   Y2|\n",
            "+----+-----+-----+------+---+---+---+---+-----+\n",
            "|0.98|514.5|294.0|110.25|7.0|  2|0.0|  0|21.33|\n",
            "|0.98|514.5|294.0|110.25|7.0|  3|0.0|  0|21.33|\n",
            "|0.98|514.5|294.0|110.25|7.0|  4|0.0|  0|21.33|\n",
            "|0.98|514.5|294.0|110.25|7.0|  5|0.0|  0|21.33|\n",
            "| 0.9|563.5|318.5| 122.5|7.0|  2|0.0|  0|28.28|\n",
            "+----+-----+-----+------+---+---+---+---+-----+\n",
            "only showing top 5 rows\n",
            "\n"
          ]
        }
      ]
    },
    {
      "cell_type": "code",
      "source": [
        "data.printSchema()"
      ],
      "metadata": {
        "colab": {
          "base_uri": "https://localhost:8080/"
        },
        "id": "VK25xuqs8aSr",
        "outputId": "e6ca27e2-ec57-4a83-c918-1a1f120b8257"
      },
      "execution_count": 6,
      "outputs": [
        {
          "output_type": "stream",
          "name": "stdout",
          "text": [
            "root\n",
            " |-- X1: double (nullable = true)\n",
            " |-- X2: double (nullable = true)\n",
            " |-- X3: double (nullable = true)\n",
            " |-- X4: double (nullable = true)\n",
            " |-- X5: double (nullable = true)\n",
            " |-- X6: integer (nullable = true)\n",
            " |-- X7: double (nullable = true)\n",
            " |-- X8: integer (nullable = true)\n",
            " |-- Y2: double (nullable = true)\n",
            "\n"
          ]
        }
      ]
    },
    {
      "cell_type": "code",
      "source": [
        "from pyspark.ml.feature import VectorAssembler"
      ],
      "metadata": {
        "id": "7M_VA_ut8s-u"
      },
      "execution_count": 7,
      "outputs": []
    },
    {
      "cell_type": "code",
      "source": [
        "vec = VectorAssembler(inputCols = ['X1','X2','X3','X4','X5','X6','X7','X8'], outputCol = \"all_features\")"
      ],
      "metadata": {
        "id": "MIWYx3DX9ITk"
      },
      "execution_count": 8,
      "outputs": []
    },
    {
      "cell_type": "code",
      "source": [
        "from pyspark.ml.regression import LinearRegression\n",
        "#from pyspark.ml.regression import DecisiontreeRegressor \n",
        "# can also be used"
      ],
      "metadata": {
        "id": "B57F1k9m9iRA"
      },
      "execution_count": 9,
      "outputs": []
    },
    {
      "cell_type": "code",
      "source": [
        "model = LinearRegression(featuresCol = \"all_features\", labelCol = \"Y2\")"
      ],
      "metadata": {
        "id": "j6Y22fcg9sQ8"
      },
      "execution_count": 10,
      "outputs": []
    },
    {
      "cell_type": "code",
      "source": [
        "from pyspark.ml import Pipeline\n",
        "mypipeline = Pipeline(stages = [vec, model])"
      ],
      "metadata": {
        "id": "jEu08M_W945c"
      },
      "execution_count": 13,
      "outputs": []
    },
    {
      "cell_type": "code",
      "source": [
        "training, test = data.randomSplit([0.7,0.3])\n",
        "model = mypipeline.fit(training)\n",
        "result = model.transform(test)\n",
        "result.show(5)"
      ],
      "metadata": {
        "colab": {
          "base_uri": "https://localhost:8080/"
        },
        "id": "VnjVH45H-G5n",
        "outputId": "0228a940-f18e-4436-a823-83c168360f46"
      },
      "execution_count": 14,
      "outputs": [
        {
          "output_type": "stream",
          "name": "stdout",
          "text": [
            "+----+-----+-----+-----+---+---+----+---+-----+--------------------+------------------+\n",
            "|  X1|   X2|   X3|   X4| X5| X6|  X7| X8|   Y2|        all_features|        prediction|\n",
            "+----+-----+-----+-----+---+---+----+---+-----+--------------------+------------------+\n",
            "|0.62|808.5|367.5|220.5|3.5|  2| 0.0|  0|12.07|[0.62,808.5,367.5...|13.827704731451632|\n",
            "|0.62|808.5|367.5|220.5|3.5|  2| 0.1|  2|14.37|[0.62,808.5,367.5...|15.481128152791129|\n",
            "|0.62|808.5|367.5|220.5|3.5|  2| 0.1|  5|14.24|[0.62,808.5,367.5...|15.638008942644916|\n",
            "|0.62|808.5|367.5|220.5|3.5|  2|0.25|  2|15.32|[0.62,808.5,367.5...| 17.80438249494658|\n",
            "|0.62|808.5|367.5|220.5|3.5|  2| 0.4|  1| 17.2|[0.62,808.5,367.5...|20.075343240484102|\n",
            "+----+-----+-----+-----+---+---+----+---+-----+--------------------+------------------+\n",
            "only showing top 5 rows\n",
            "\n"
          ]
        }
      ]
    },
    {
      "cell_type": "code",
      "source": [
        "from pyspark.ml.evaluation import RegressionEvaluator\n",
        "\n"
      ],
      "metadata": {
        "id": "c_KVG46n-uwg"
      },
      "execution_count": 15,
      "outputs": []
    },
    {
      "cell_type": "code",
      "source": [
        "regeval = RegressionEvaluator(predictionCol = 'prediction', labelCol ='Y2', metricName = 'rmse' )\n",
        "regeval.evaluate(result)"
      ],
      "metadata": {
        "colab": {
          "base_uri": "https://localhost:8080/"
        },
        "id": "wGGZ_yn_A-K4",
        "outputId": "c94617d1-ecdf-447b-f22d-6a8ac819698e"
      },
      "execution_count": 18,
      "outputs": [
        {
          "output_type": "execute_result",
          "data": {
            "text/plain": [
              "3.219980309198298"
            ]
          },
          "metadata": {},
          "execution_count": 18
        }
      ]
    },
    {
      "cell_type": "code",
      "source": [
        ""
      ],
      "metadata": {
        "id": "8scNLA_cBUbj"
      },
      "execution_count": null,
      "outputs": []
    }
  ]
}