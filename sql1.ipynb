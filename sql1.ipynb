{
  "nbformat": 4,
  "nbformat_minor": 0,
  "metadata": {
    "colab": {
      "name": "sql1.ipynb",
      "provenance": []
    },
    "kernelspec": {
      "name": "python3",
      "display_name": "Python 3"
    },
    "language_info": {
      "name": "python"
    }
  },
  "cells": [
    {
      "cell_type": "code",
      "execution_count": 1,
      "metadata": {
        "colab": {
          "base_uri": "https://localhost:8080/"
        },
        "id": "UQNP-o2VnCE8",
        "outputId": "d0b3e940-7f94-4ea3-8656-d9fd38167ffe"
      },
      "outputs": [
        {
          "output_type": "stream",
          "name": "stdout",
          "text": [
            "Collecting pyspark\n",
            "  Downloading pyspark-3.2.1.tar.gz (281.4 MB)\n",
            "\u001b[K     |████████████████████████████████| 281.4 MB 28 kB/s \n",
            "\u001b[?25hCollecting py4j==0.10.9.3\n",
            "  Downloading py4j-0.10.9.3-py2.py3-none-any.whl (198 kB)\n",
            "\u001b[K     |████████████████████████████████| 198 kB 51.8 MB/s \n",
            "\u001b[?25hBuilding wheels for collected packages: pyspark\n",
            "  Building wheel for pyspark (setup.py) ... \u001b[?25l\u001b[?25hdone\n",
            "  Created wheel for pyspark: filename=pyspark-3.2.1-py2.py3-none-any.whl size=281853642 sha256=d0c349c073810dc1cba02a846a8dc3dca2d1cc41af1cb01eadb07d693df1a8ab\n",
            "  Stored in directory: /root/.cache/pip/wheels/9f/f5/07/7cd8017084dce4e93e84e92efd1e1d5334db05f2e83bcef74f\n",
            "Successfully built pyspark\n",
            "Installing collected packages: py4j, pyspark\n",
            "Successfully installed py4j-0.10.9.3 pyspark-3.2.1\n"
          ]
        }
      ],
      "source": [
        "!pip install pyspark"
      ]
    },
    {
      "cell_type": "code",
      "source": [
        "from pyspark.sql import SparkSession"
      ],
      "metadata": {
        "id": "CeFT6yYHnHB1"
      },
      "execution_count": 2,
      "outputs": []
    },
    {
      "cell_type": "code",
      "source": [
        "if __name__ ==\"__main__\":\n",
        "  session = SparkSession.builder.appName(\"firstsql\").master(\"local[2]\").getOrCreate()\n",
        "  readdata = session.read"
      ],
      "metadata": {
        "id": "g3TQr2rlnQ5v"
      },
      "execution_count": 3,
      "outputs": []
    },
    {
      "cell_type": "code",
      "source": [
        "ibmdata = readdata.option(\"header\",True).option(\"inferSchema\",True).csv(\"/content/IBMdata (2).csv\")"
      ],
      "metadata": {
        "id": "HI2mXhrHnbYK"
      },
      "execution_count": 4,
      "outputs": []
    },
    {
      "cell_type": "code",
      "source": [
        "ibmdata.printSchema()"
      ],
      "metadata": {
        "colab": {
          "base_uri": "https://localhost:8080/"
        },
        "id": "bjkvjYp5pXwq",
        "outputId": "0e4e1dae-9b2b-4e64-8a7b-3fd75410a9ff"
      },
      "execution_count": 5,
      "outputs": [
        {
          "output_type": "stream",
          "name": "stdout",
          "text": [
            "root\n",
            " |-- Age: integer (nullable = true)\n",
            " |-- Attrition: string (nullable = true)\n",
            " |-- BusinessTravel: string (nullable = true)\n",
            " |-- DailyRate: integer (nullable = true)\n",
            " |-- Department: string (nullable = true)\n",
            " |-- DistanceFromHome: integer (nullable = true)\n",
            " |-- Education: integer (nullable = true)\n",
            " |-- EducationField: string (nullable = true)\n",
            " |-- EmployeeCount: integer (nullable = true)\n",
            " |-- EmployeeNumber: integer (nullable = true)\n",
            " |-- EnvironmentSatisfaction: integer (nullable = true)\n",
            " |-- Gender: string (nullable = true)\n",
            " |-- HourlyRate: integer (nullable = true)\n",
            " |-- JobInvolvement: integer (nullable = true)\n",
            " |-- JobLevel: integer (nullable = true)\n",
            " |-- JobRole: string (nullable = true)\n",
            " |-- JobSatisfaction: integer (nullable = true)\n",
            " |-- MaritalStatus: string (nullable = true)\n",
            " |-- MonthlyIncome: integer (nullable = true)\n",
            " |-- MonthlyRate: integer (nullable = true)\n",
            " |-- NumCompaniesWorked: integer (nullable = true)\n",
            " |-- Over18: string (nullable = true)\n",
            " |-- OverTime: string (nullable = true)\n",
            " |-- PercentSalaryHike: integer (nullable = true)\n",
            " |-- PerformanceRating: integer (nullable = true)\n",
            " |-- RelationshipSatisfaction: integer (nullable = true)\n",
            " |-- StandardHours: integer (nullable = true)\n",
            " |-- StockOptionLevel: integer (nullable = true)\n",
            " |-- TotalWorkingYears: integer (nullable = true)\n",
            " |-- TrainingTimesLastYear: integer (nullable = true)\n",
            " |-- WorkLifeBalance: integer (nullable = true)\n",
            " |-- YearsAtCompany: integer (nullable = true)\n",
            " |-- YearsInCurrentRole: integer (nullable = true)\n",
            " |-- YearsSinceLastPromotion: integer (nullable = true)\n",
            " |-- YearsWithCurrManager: integer (nullable = true)\n",
            "\n"
          ]
        }
      ]
    },
    {
      "cell_type": "code",
      "source": [
        "result = ibmdata.select(\"Gender\",\"Age\")\n",
        "result.show()"
      ],
      "metadata": {
        "colab": {
          "base_uri": "https://localhost:8080/"
        },
        "id": "q0vkKrRvphdM",
        "outputId": "bffd8cbf-2d87-447f-c55d-c43022382131"
      },
      "execution_count": 6,
      "outputs": [
        {
          "output_type": "stream",
          "name": "stdout",
          "text": [
            "+------+---+\n",
            "|Gender|Age|\n",
            "+------+---+\n",
            "|Female| 41|\n",
            "|  Male| 49|\n",
            "|  Male| 37|\n",
            "|Female| 33|\n",
            "|  Male| 27|\n",
            "|  Male| 32|\n",
            "|Female| 59|\n",
            "|  Male| 30|\n",
            "|  Male| 38|\n",
            "|  Male| 36|\n",
            "|  Male| 35|\n",
            "|Female| 29|\n",
            "|  Male| 31|\n",
            "|  Male| 34|\n",
            "|  Male| 28|\n",
            "|Female| 29|\n",
            "|  Male| 32|\n",
            "|  Male| 22|\n",
            "|Female| 53|\n",
            "|  Male| 38|\n",
            "+------+---+\n",
            "only showing top 20 rows\n",
            "\n"
          ]
        }
      ]
    },
    {
      "cell_type": "code",
      "source": [
        "result2 = ibmdata.select(\"Age\",\"DailyRate\",ibmdata.Department.like(\"S%\"))\n",
        "result2.show()"
      ],
      "metadata": {
        "colab": {
          "base_uri": "https://localhost:8080/"
        },
        "id": "tm0-9rw0qllL",
        "outputId": "bea6fead-853b-4c5e-9388-e2585d244b35"
      },
      "execution_count": 10,
      "outputs": [
        {
          "output_type": "stream",
          "name": "stdout",
          "text": [
            "+---+---------+------------------+\n",
            "|Age|DailyRate|Department LIKE S%|\n",
            "+---+---------+------------------+\n",
            "| 41|     1102|              true|\n",
            "| 49|      279|             false|\n",
            "| 37|     1373|             false|\n",
            "| 33|     1392|             false|\n",
            "| 27|      591|             false|\n",
            "| 32|     1005|             false|\n",
            "| 59|     1324|             false|\n",
            "| 30|     1358|             false|\n",
            "| 38|      216|             false|\n",
            "| 36|     1299|             false|\n",
            "| 35|      809|             false|\n",
            "| 29|      153|             false|\n",
            "| 31|      670|             false|\n",
            "| 34|     1346|             false|\n",
            "| 28|      103|             false|\n",
            "| 29|     1389|             false|\n",
            "| 32|      334|             false|\n",
            "| 22|     1123|             false|\n",
            "| 53|     1219|              true|\n",
            "| 38|      371|             false|\n",
            "+---+---------+------------------+\n",
            "only showing top 20 rows\n",
            "\n"
          ]
        }
      ]
    },
    {
      "cell_type": "code",
      "source": [
        "result3 = ibmdata.select(\"Gender\",ibmdata.JobRole.startswith(\"Sales\"))\n",
        "result3.show()"
      ],
      "metadata": {
        "colab": {
          "base_uri": "https://localhost:8080/"
        },
        "id": "PaNwpa2srhju",
        "outputId": "0dd993c4-1b89-4f55-df2f-8805812416e8"
      },
      "execution_count": 12,
      "outputs": [
        {
          "output_type": "stream",
          "name": "stdout",
          "text": [
            "+------+--------------------------+\n",
            "|Gender|startswith(JobRole, Sales)|\n",
            "+------+--------------------------+\n",
            "|Female|                      true|\n",
            "|  Male|                     false|\n",
            "|  Male|                     false|\n",
            "|Female|                     false|\n",
            "|  Male|                     false|\n",
            "|  Male|                     false|\n",
            "|Female|                     false|\n",
            "|  Male|                     false|\n",
            "|  Male|                     false|\n",
            "|  Male|                     false|\n",
            "|  Male|                     false|\n",
            "|Female|                     false|\n",
            "|  Male|                     false|\n",
            "|  Male|                     false|\n",
            "|  Male|                     false|\n",
            "|Female|                     false|\n",
            "|  Male|                     false|\n",
            "|  Male|                     false|\n",
            "|Female|                     false|\n",
            "|  Male|                     false|\n",
            "+------+--------------------------+\n",
            "only showing top 20 rows\n",
            "\n"
          ]
        }
      ]
    },
    {
      "cell_type": "code",
      "source": [
        "result4 = ibmdata.select(\"Department\", ibmdata.Age.between(80,90))\n",
        "result4"
      ],
      "metadata": {
        "colab": {
          "base_uri": "https://localhost:8080/"
        },
        "id": "NO_WDOpIsHh9",
        "outputId": "9a198488-d49d-4c8d-a31f-aa3fa1c652e3"
      },
      "execution_count": 13,
      "outputs": [
        {
          "output_type": "execute_result",
          "data": {
            "text/plain": [
              "DataFrame[Department: string, ((Age >= 80) AND (Age <= 90)): boolean]"
            ]
          },
          "metadata": {},
          "execution_count": 13
        }
      ]
    },
    {
      "cell_type": "code",
      "source": [
        "result5 = ibmdata.select(\"Gender\",ibmdata.Department.isin(\"Sales\",\"Human Resources\"))\n",
        "result5.show()"
      ],
      "metadata": {
        "colab": {
          "base_uri": "https://localhost:8080/"
        },
        "id": "8Amxwtsbssn9",
        "outputId": "a57baca1-8251-478a-9b48-f57d18612ce2"
      },
      "execution_count": 15,
      "outputs": [
        {
          "output_type": "stream",
          "name": "stdout",
          "text": [
            "+------+----------------------------------------+\n",
            "|Gender|(Department IN (Sales, Human Resources))|\n",
            "+------+----------------------------------------+\n",
            "|Female|                                    true|\n",
            "|  Male|                                   false|\n",
            "|  Male|                                   false|\n",
            "|Female|                                   false|\n",
            "|  Male|                                   false|\n",
            "|  Male|                                   false|\n",
            "|Female|                                   false|\n",
            "|  Male|                                   false|\n",
            "|  Male|                                   false|\n",
            "|  Male|                                   false|\n",
            "|  Male|                                   false|\n",
            "|Female|                                   false|\n",
            "|  Male|                                   false|\n",
            "|  Male|                                   false|\n",
            "|  Male|                                   false|\n",
            "|Female|                                   false|\n",
            "|  Male|                                   false|\n",
            "|  Male|                                   false|\n",
            "|Female|                                    true|\n",
            "|  Male|                                   false|\n",
            "+------+----------------------------------------+\n",
            "only showing top 20 rows\n",
            "\n"
          ]
        }
      ]
    },
    {
      "cell_type": "code",
      "source": [
        "result6 = ibmdata.select(\"Attrition\",ibmdata.JobRole.endswith(\"Manager\"))\n",
        "result6.show()"
      ],
      "metadata": {
        "colab": {
          "base_uri": "https://localhost:8080/"
        },
        "id": "wStBr1zUtA7W",
        "outputId": "17bc704e-a01e-4c0a-9b42-4c5aca8a3aec"
      },
      "execution_count": 16,
      "outputs": [
        {
          "output_type": "stream",
          "name": "stdout",
          "text": [
            "+---------+--------------------------+\n",
            "|Attrition|endswith(JobRole, Manager)|\n",
            "+---------+--------------------------+\n",
            "|      Yes|                     false|\n",
            "|       No|                     false|\n",
            "|      Yes|                     false|\n",
            "|       No|                     false|\n",
            "|       No|                     false|\n",
            "|       No|                     false|\n",
            "|       No|                     false|\n",
            "|       No|                     false|\n",
            "|       No|                     false|\n",
            "|       No|                     false|\n",
            "|       No|                     false|\n",
            "|       No|                     false|\n",
            "|       No|                     false|\n",
            "|       No|                     false|\n",
            "|      Yes|                     false|\n",
            "|       No|                     false|\n",
            "|       No|                     false|\n",
            "|       No|                     false|\n",
            "|       No|                      true|\n",
            "|       No|                     false|\n",
            "+---------+--------------------------+\n",
            "only showing top 20 rows\n",
            "\n"
          ]
        }
      ]
    },
    {
      "cell_type": "code",
      "source": [
        "result7 = ibmdata.select(\"Gender\",ibmdata.JobRole.substr(1,4), ibmdata.Age.when()"
      ],
      "metadata": {
        "colab": {
          "base_uri": "https://localhost:8080/",
          "height": 165
        },
        "id": "csefnosOtqR1",
        "outputId": "becca243-9599-480d-bc38-7d11187aa0b8"
      },
      "execution_count": 19,
      "outputs": [
        {
          "output_type": "error",
          "ename": "TypeError",
          "evalue": "ignored",
          "traceback": [
            "\u001b[0;31m---------------------------------------------------------------------------\u001b[0m",
            "\u001b[0;31mTypeError\u001b[0m                                 Traceback (most recent call last)",
            "\u001b[0;32m<ipython-input-19-51d846a58218>\u001b[0m in \u001b[0;36m<module>\u001b[0;34m()\u001b[0m\n\u001b[0;32m----> 1\u001b[0;31m \u001b[0mresult7\u001b[0m \u001b[0;34m=\u001b[0m \u001b[0mibmdata\u001b[0m\u001b[0;34m.\u001b[0m\u001b[0mselect\u001b[0m\u001b[0;34m(\u001b[0m\u001b[0;34m\"Gender\"\u001b[0m\u001b[0;34m,\u001b[0m\u001b[0mibmdata\u001b[0m\u001b[0;34m.\u001b[0m\u001b[0mJobRole\u001b[0m\u001b[0;34m.\u001b[0m\u001b[0msubstr\u001b[0m\u001b[0;34m(\u001b[0m\u001b[0;36m1\u001b[0m\u001b[0;34m,\u001b[0m\u001b[0;36m4\u001b[0m\u001b[0;34m)\u001b[0m\u001b[0;34m,\u001b[0m \u001b[0mibmdata\u001b[0m\u001b[0;34m.\u001b[0m\u001b[0mAge\u001b[0m\u001b[0;34m.\u001b[0m\u001b[0mwhen\u001b[0m\u001b[0;34m(\u001b[0m\u001b[0mibmdata\u001b[0m\u001b[0;34m.\u001b[0m\u001b[0mAge\u001b[0m\u001b[0;34m>\u001b[0m\u001b[0;36m60\u001b[0m\u001b[0;34m)\u001b[0m\u001b[0;34m)\u001b[0m\u001b[0;34m\u001b[0m\u001b[0;34m\u001b[0m\u001b[0m\n\u001b[0m",
            "\u001b[0;31mTypeError\u001b[0m: when() missing 1 required positional argument: 'value'"
          ]
        }
      ]
    },
    {
      "cell_type": "code",
      "source": [
        "result8 = ibmdata.select(\"Gender\", ibmdata.JobRole.substr)"
      ],
      "metadata": {
        "id": "BluEvIUQvBH8"
      },
      "execution_count": null,
      "outputs": []
    },
    {
      "cell_type": "code",
      "source": [
        "result9 = ibmdata.filter((ibmdata['Gender']=='Male') & (ibmdata['MaritalStatus'] == 'Married'))\n",
        "result9.show()"
      ],
      "metadata": {
        "colab": {
          "base_uri": "https://localhost:8080/"
        },
        "id": "-DlarkUIvm4Q",
        "outputId": "349919f5-7173-4d24-8b02-13eafcfa305c"
      },
      "execution_count": 24,
      "outputs": [
        {
          "output_type": "stream",
          "name": "stdout",
          "text": [
            "+---+---------+-----------------+---------+--------------------+----------------+---------+----------------+-------------+--------------+-----------------------+------+----------+--------------+--------+--------------------+---------------+-------------+-------------+-----------+------------------+------+--------+-----------------+-----------------+------------------------+-------------+----------------+-----------------+---------------------+---------------+--------------+------------------+-----------------------+--------------------+\n",
            "|Age|Attrition|   BusinessTravel|DailyRate|          Department|DistanceFromHome|Education|  EducationField|EmployeeCount|EmployeeNumber|EnvironmentSatisfaction|Gender|HourlyRate|JobInvolvement|JobLevel|             JobRole|JobSatisfaction|MaritalStatus|MonthlyIncome|MonthlyRate|NumCompaniesWorked|Over18|OverTime|PercentSalaryHike|PerformanceRating|RelationshipSatisfaction|StandardHours|StockOptionLevel|TotalWorkingYears|TrainingTimesLastYear|WorkLifeBalance|YearsAtCompany|YearsInCurrentRole|YearsSinceLastPromotion|YearsWithCurrManager|\n",
            "+---+---------+-----------------+---------+--------------------+----------------+---------+----------------+-------------+--------------+-----------------------+------+----------+--------------+--------+--------------------+---------------+-------------+-------------+-----------+------------------+------+--------+-----------------+-----------------+------------------------+-------------+----------------+-----------------+---------------------+---------------+--------------+------------------+-----------------------+--------------------+\n",
            "| 49|       No|Travel_Frequently|      279|Research & Develo...|               8|        1|   Life Sciences|            1|             2|                      3|  Male|        61|             2|       2|  Research Scientist|              2|      Married|         5130|      24907|                 1|     Y|      No|               23|                4|                       4|           80|               1|               10|                    3|              3|            10|                 7|                      1|                   7|\n",
            "| 27|       No|    Travel_Rarely|      591|Research & Develo...|               2|        1|         Medical|            1|             7|                      1|  Male|        40|             3|       1|Laboratory Techni...|              2|      Married|         3468|      16632|                 9|     Y|      No|               12|                3|                       4|           80|               1|                6|                    3|              3|             2|                 2|                      2|                   2|\n",
            "| 36|       No|    Travel_Rarely|     1299|Research & Develo...|              27|        3|         Medical|            1|            13|                      3|  Male|        94|             3|       2|Healthcare Repres...|              3|      Married|         5237|      16577|                 6|     Y|      No|               13|                3|                       2|           80|               2|               17|                    3|              2|             7|                 7|                      7|                   7|\n",
            "| 35|       No|    Travel_Rarely|      809|Research & Develo...|              16|        3|         Medical|            1|            14|                      1|  Male|        84|             4|       1|Laboratory Techni...|              2|      Married|         2426|      16479|                 0|     Y|      No|               13|                3|                       3|           80|               1|                6|                    5|              3|             5|                 4|                      0|                   3|\n",
            "| 42|       No|    Travel_Rarely|      691|               Sales|               8|        4|       Marketing|            1|            35|                      3|  Male|        48|             3|       2|     Sales Executive|              2|      Married|         6825|      21173|                 0|     Y|      No|               11|                3|                       4|           80|               1|               10|                    2|              3|             9|                 7|                      4|                   2|\n",
            "| 44|       No|    Travel_Rarely|     1459|Research & Develo...|              10|        4|           Other|            1|            40|                      4|  Male|        41|             3|       2|Healthcare Repres...|              4|      Married|         6465|      19121|                 2|     Y|     Yes|               13|                3|                       4|           80|               0|                9|                    5|              4|             4|                 2|                      1|                   3|\n",
            "| 39|      Yes|    Travel_Rarely|      895|               Sales|               5|        3|Technical Degree|            1|            42|                      4|  Male|        56|             3|       2|Sales Representative|              4|      Married|         2086|       3335|                 3|     Y|      No|               14|                3|                       3|           80|               1|               19|                    6|              4|             1|                 0|                      0|                   0|\n",
            "| 24|      Yes|    Travel_Rarely|      813|Research & Develo...|               1|        3|         Medical|            1|            45|                      2|  Male|        61|             3|       1|  Research Scientist|              4|      Married|         2293|       3020|                 2|     Y|     Yes|               16|                3|                       1|           80|               1|                6|                    2|              2|             2|                 0|                      2|                   0|\n",
            "| 50|      Yes|    Travel_Rarely|      869|               Sales|               3|        2|       Marketing|            1|            47|                      1|  Male|        86|             2|       1|Sales Representative|              3|      Married|         2683|       3810|                 1|     Y|     Yes|               14|                3|                       3|           80|               0|                3|                    2|              3|             3|                 2|                      0|                   2|\n",
            "| 37|       No|    Travel_Rarely|      408|Research & Develo...|              19|        2|   Life Sciences|            1|            61|                      2|  Male|        73|             3|       1|  Research Scientist|              2|      Married|         3022|      10227|                 4|     Y|      No|               21|                4|                       1|           80|               0|                8|                    1|              3|             1|                 0|                      0|                   0|\n",
            "| 35|       No|    Travel_Rarely|     1229|Research & Develo...|               8|        1|   Life Sciences|            1|            63|                      4|  Male|        36|             4|       1|Laboratory Techni...|              4|      Married|         2269|       4892|                 1|     Y|      No|               19|                3|                       4|           80|               0|                1|                    2|              3|             1|                 0|                      0|                   1|\n",
            "| 35|       No|       Non-Travel|     1097|Research & Develo...|              11|        2|         Medical|            1|            70|                      3|  Male|        79|             2|       3|Healthcare Repres...|              1|      Married|         9884|       8302|                 2|     Y|     Yes|               13|                3|                       3|           80|               1|               10|                    3|              3|             4|                 0|                      2|                   3|\n",
            "| 35|       No|Travel_Frequently|      853|               Sales|              18|        5|   Life Sciences|            1|            74|                      2|  Male|        71|             3|       3|     Sales Executive|              1|      Married|         9069|      11031|                 1|     Y|      No|               22|                4|                       4|           80|               1|                9|                    3|              2|             9|                 8|                      1|                   8|\n",
            "| 32|       No|    Travel_Rarely|      427|Research & Develo...|               1|        3|         Medical|            1|            78|                      1|  Male|        33|             3|       2|Manufacturing Dir...|              4|      Married|         6162|      10877|                 1|     Y|     Yes|               22|                4|                       2|           80|               1|                9|                    3|              3|             9|                 8|                      7|                   8|\n",
            "| 35|       No|Travel_Frequently|      664|Research & Develo...|               1|        3|         Medical|            1|            88|                      2|  Male|        79|             3|       1|  Research Scientist|              1|      Married|         2194|       5868|                 4|     Y|      No|               13|                3|                       4|           80|               1|                5|                    2|              2|             3|                 2|                      1|                   2|\n",
            "| 36|      Yes|    Travel_Rarely|      318|Research & Develo...|               9|        3|         Medical|            1|            90|                      4|  Male|        79|             2|       1|  Research Scientist|              3|      Married|         3388|      21777|                 0|     Y|     Yes|               17|                3|                       1|           80|               1|                2|                    0|              2|             1|                 0|                      0|                   0|\n",
            "| 29|       No|    Travel_Rarely|     1328|Research & Develo...|               2|        3|   Life Sciences|            1|            94|                      3|  Male|        76|             3|       1|  Research Scientist|              2|      Married|         2703|       4956|                 0|     Y|      No|               23|                4|                       4|           80|               1|                6|                    3|              3|             5|                 4|                      0|                   4|\n",
            "| 32|       No|    Travel_Rarely|      548|Research & Develo...|               1|        3|   Life Sciences|            1|            96|                      2|  Male|        66|             3|       2|  Research Scientist|              2|      Married|         6220|       7346|                 1|     Y|      No|               17|                3|                       2|           80|               2|               10|                    3|              3|            10|                 4|                      0|                   9|\n",
            "| 45|       No|    Travel_Rarely|      193|Research & Develo...|               6|        4|           Other|            1|           101|                      4|  Male|        52|             3|       3|   Research Director|              1|      Married|        13245|      15067|                 4|     Y|     Yes|               14|                3|                       2|           80|               0|               17|                    3|              4|             0|                 0|                      0|                   0|\n",
            "| 30|       No|    Travel_Rarely|      852|Research & Develo...|               1|        1|   Life Sciences|            1|           104|                      4|  Male|        55|             2|       2|Laboratory Techni...|              4|      Married|         5126|      15998|                 1|     Y|     Yes|               12|                3|                       3|           80|               2|               10|                    1|              2|            10|                 8|                      3|                   0|\n",
            "+---+---------+-----------------+---------+--------------------+----------------+---------+----------------+-------------+--------------+-----------------------+------+----------+--------------+--------+--------------------+---------------+-------------+-------------+-----------+------------------+------+--------+-----------------+-----------------+------------------------+-------------+----------------+-----------------+---------------------+---------------+--------------+------------------+-----------------------+--------------------+\n",
            "only showing top 20 rows\n",
            "\n"
          ]
        }
      ]
    },
    {
      "cell_type": "code",
      "source": [
        "result10 = ibmdata.filter((ibmdata['Gender']=='Male') & (ibmdata['MaritalStatus'] == 'Married') & (ibmdata['Age']>55))\n",
        "result10.show()"
      ],
      "metadata": {
        "colab": {
          "base_uri": "https://localhost:8080/"
        },
        "id": "49L-fjv-v1zX",
        "outputId": "954d3bd0-1201-490c-d20d-4f1e778ba71d"
      },
      "execution_count": 26,
      "outputs": [
        {
          "output_type": "stream",
          "name": "stdout",
          "text": [
            "+---+---------+-----------------+---------+--------------------+----------------+---------+----------------+-------------+--------------+-----------------------+------+----------+--------------+--------+--------------------+---------------+-------------+-------------+-----------+------------------+------+--------+-----------------+-----------------+------------------------+-------------+----------------+-----------------+---------------------+---------------+--------------+------------------+-----------------------+--------------------+\n",
            "|Age|Attrition|   BusinessTravel|DailyRate|          Department|DistanceFromHome|Education|  EducationField|EmployeeCount|EmployeeNumber|EnvironmentSatisfaction|Gender|HourlyRate|JobInvolvement|JobLevel|             JobRole|JobSatisfaction|MaritalStatus|MonthlyIncome|MonthlyRate|NumCompaniesWorked|Over18|OverTime|PercentSalaryHike|PerformanceRating|RelationshipSatisfaction|StandardHours|StockOptionLevel|TotalWorkingYears|TrainingTimesLastYear|WorkLifeBalance|YearsAtCompany|YearsInCurrentRole|YearsSinceLastPromotion|YearsWithCurrManager|\n",
            "+---+---------+-----------------+---------+--------------------+----------------+---------+----------------+-------------+--------------+-----------------------+------+----------+--------------+--------+--------------------+---------------+-------------+-------------+-----------+------------------+------+--------+-----------------+-----------------+------------------------+-------------+----------------+-----------------+---------------------+---------------+--------------+------------------+-----------------------+--------------------+\n",
            "| 59|       No|    Travel_Rarely|      142|Research & Develo...|               3|        3|   Life Sciences|            1|           309|                      3|  Male|        70|             2|       1|  Research Scientist|              4|      Married|         2177|       8456|                 3|     Y|      No|               17|                3|                       1|           80|               1|                7|                    6|              3|             1|                 0|                      0|                   0|\n",
            "| 59|       No|    Travel_Rarely|      818|     Human Resources|               6|        2|         Medical|            1|           321|                      2|  Male|        52|             3|       1|     Human Resources|              3|      Married|         2267|      25657|                 8|     Y|      No|               17|                3|                       4|           80|               0|                7|                    2|              2|             2|                 2|                      2|                   2|\n",
            "| 57|       No|    Travel_Rarely|      593|Research & Develo...|               1|        4|         Medical|            1|           482|                      4|  Male|        88|             3|       2|Healthcare Repres...|              3|      Married|         6755|       2967|                 2|     Y|      No|               11|                3|                       3|           80|               0|               15|                    2|              3|             3|                 2|                      1|                   2|\n",
            "| 56|       No|    Travel_Rarely|      832|Research & Develo...|               9|        3|         Medical|            1|           762|                      3|  Male|        81|             3|       4|Healthcare Repres...|              4|      Married|        11103|      20420|                 7|     Y|      No|               11|                3|                       3|           80|               0|               30|                    1|              2|            10|                 7|                      1|                   1|\n",
            "| 59|       No|    Travel_Rarely|     1089|               Sales|               1|        2|Technical Degree|            1|          1048|                      2|  Male|        66|             3|       3|             Manager|              4|      Married|        11904|      11038|                 3|     Y|     Yes|               14|                3|                       3|           80|               1|               14|                    1|              1|             6|                 4|                      0|                   4|\n",
            "| 56|       No|    Travel_Rarely|     1369|Research & Develo...|              23|        3|   Life Sciences|            1|          1373|                      4|  Male|        68|             3|       4|Manufacturing Dir...|              2|      Married|        13402|      18235|                 4|     Y|     Yes|               12|                3|                       1|           80|               1|               33|                    0|              3|            19|                16|                     15|                   9|\n",
            "| 57|       No|    Travel_Rarely|      405|Research & Develo...|               1|        2|   Life Sciences|            1|          1483|                      2|  Male|        93|             4|       2|  Research Scientist|              3|      Married|         4900|       2721|                 0|     Y|      No|               24|                4|                       1|           80|               1|               13|                    2|              2|            12|                 9|                      2|                   8|\n",
            "| 58|       No|Travel_Frequently|     1216|Research & Develo...|              15|        4|   Life Sciences|            1|          1837|                      1|  Male|        87|             3|       4|   Research Director|              3|      Married|        15787|      21624|                 2|     Y|     Yes|               14|                3|                       2|           80|               0|               23|                    3|              3|             2|                 2|                      2|                   2|\n",
            "| 56|      Yes|    Travel_Rarely|      310|Research & Develo...|               7|        2|Technical Degree|            1|          2032|                      4|  Male|        72|             3|       1|Laboratory Techni...|              3|      Married|         2339|       3666|                 8|     Y|      No|               11|                3|                       4|           80|               1|               14|                    4|              1|            10|                 9|                      9|                   8|\n",
            "+---+---------+-----------------+---------+--------------------+----------------+---------+----------------+-------------+--------------+-----------------------+------+----------+--------------+--------+--------------------+---------------+-------------+-------------+-----------+------------------+------+--------+-----------------+-----------------+------------------------+-------------+----------------+-----------------+---------------------+---------------+--------------+------------------+-----------------------+--------------------+\n",
            "\n"
          ]
        }
      ]
    },
    {
      "cell_type": "code",
      "source": [
        "result11 = ibmdata.filter((ibmdata['EducationField']==\"Medical\") & (ibmdata['Gender']==\"Female\"))"
      ],
      "metadata": {
        "id": "wLWAXtE2wsS9"
      },
      "execution_count": 27,
      "outputs": []
    },
    {
      "cell_type": "code",
      "source": [
        "result11.show()"
      ],
      "metadata": {
        "colab": {
          "base_uri": "https://localhost:8080/"
        },
        "id": "G7B7YQ27xnDy",
        "outputId": "4653155d-e3ef-4094-c10c-39200e892c91"
      },
      "execution_count": 28,
      "outputs": [
        {
          "output_type": "stream",
          "name": "stdout",
          "text": [
            "+---+---------+-----------------+---------+--------------------+----------------+---------+--------------+-------------+--------------+-----------------------+------+----------+--------------+--------+--------------------+---------------+-------------+-------------+-----------+------------------+------+--------+-----------------+-----------------+------------------------+-------------+----------------+-----------------+---------------------+---------------+--------------+------------------+-----------------------+--------------------+\n",
            "|Age|Attrition|   BusinessTravel|DailyRate|          Department|DistanceFromHome|Education|EducationField|EmployeeCount|EmployeeNumber|EnvironmentSatisfaction|Gender|HourlyRate|JobInvolvement|JobLevel|             JobRole|JobSatisfaction|MaritalStatus|MonthlyIncome|MonthlyRate|NumCompaniesWorked|Over18|OverTime|PercentSalaryHike|PerformanceRating|RelationshipSatisfaction|StandardHours|StockOptionLevel|TotalWorkingYears|TrainingTimesLastYear|WorkLifeBalance|YearsAtCompany|YearsInCurrentRole|YearsSinceLastPromotion|YearsWithCurrManager|\n",
            "+---+---------+-----------------+---------+--------------------+----------------+---------+--------------+-------------+--------------+-----------------------+------+----------+--------------+--------+--------------------+---------------+-------------+-------------+-----------+------------------+------+--------+-----------------+-----------------+------------------------+-------------+----------------+-----------------+---------------------+---------------+--------------+------------------+-----------------------+--------------------+\n",
            "| 59|       No|    Travel_Rarely|     1324|Research & Develo...|               3|        3|       Medical|            1|            10|                      3|Female|        81|             4|       1|Laboratory Techni...|              1|      Married|         2670|       9964|                 4|     Y|     Yes|               20|                4|                       1|           80|               3|               12|                    3|              2|             1|                 0|                      0|                   0|\n",
            "| 44|       No|    Travel_Rarely|      477|Research & Develo...|               7|        4|       Medical|            1|            36|                      1|Female|        42|             2|       3|Healthcare Repres...|              4|      Married|        10248|       2094|                 3|     Y|      No|               14|                3|                       4|           80|               1|               24|                    4|              3|            22|                 6|                      5|                  17|\n",
            "| 43|       No|    Travel_Rarely|     1273|Research & Develo...|               2|        2|       Medical|            1|            46|                      4|Female|        72|             4|       1|  Research Scientist|              3|     Divorced|         2645|      21923|                 1|     Y|      No|               12|                3|                       4|           80|               2|                6|                    3|              2|             5|                 3|                      1|                   4|\n",
            "| 30|       No|Travel_Frequently|      721|Research & Develo...|               1|        2|       Medical|            1|            57|                      3|Female|        58|             3|       2|Laboratory Techni...|              4|       Single|         4011|      10781|                 1|     Y|      No|               23|                4|                       4|           80|               0|               12|                    2|              3|            12|                 8|                      3|                   7|\n",
            "| 35|       No|    Travel_Rarely|     1142|Research & Develo...|              23|        4|       Medical|            1|            75|                      3|Female|        30|             3|       1|Laboratory Techni...|              1|      Married|         4014|      16002|                 3|     Y|     Yes|               15|                3|                       3|           80|               1|                4|                    3|              3|             2|                 2|                      2|                   2|\n",
            "| 50|       No|    Travel_Rarely|      989|Research & Develo...|               7|        2|       Medical|            1|            80|                      2|Female|        43|             2|       5|   Research Director|              3|     Divorced|        18740|      16701|                 5|     Y|     Yes|               12|                3|                       4|           80|               1|               29|                    2|              2|            27|                 3|                     13|                   8|\n",
            "| 55|       No|    Travel_Rarely|      836|Research & Develo...|               8|        3|       Medical|            1|            84|                      4|Female|        33|             3|       4|             Manager|              3|     Divorced|        14756|      19730|                 2|     Y|     Yes|               14|                3|                       3|           80|               3|               21|                    2|              3|             5|                 0|                      0|                   2|\n",
            "| 38|       No|       Non-Travel|      573|Research & Develo...|               6|        3|       Medical|            1|           107|                      2|Female|        79|             1|       2|  Research Scientist|              4|     Divorced|         5329|      15717|                 7|     Y|     Yes|               12|                3|                       4|           80|               3|               17|                    3|              3|            13|                11|                      1|                   9|\n",
            "| 30|       No|    Travel_Rarely|     1334|               Sales|               4|        2|       Medical|            1|           121|                      3|Female|        63|             2|       2|     Sales Executive|              2|     Divorced|         5209|      19760|                 1|     Y|     Yes|               12|                3|                       2|           80|               3|               11|                    4|              2|            11|                 8|                      2|                   7|\n",
            "| 22|       No|    Travel_Rarely|      534|Research & Develo...|              15|        3|       Medical|            1|           144|                      2|Female|        59|             3|       1|Laboratory Techni...|              4|       Single|         2871|      23785|                 1|     Y|      No|               15|                3|                       3|           80|               0|                1|                    5|              3|             0|                 0|                      0|                   0|\n",
            "| 51|       No|Travel_Frequently|     1456|Research & Develo...|               1|        4|       Medical|            1|           145|                      1|Female|        30|             2|       3|Healthcare Repres...|              1|       Single|         7484|      25796|                 3|     Y|      No|               20|                4|                       3|           80|               0|               23|                    1|              2|            13|                12|                     12|                   8|\n",
            "| 34|       No|    Travel_Rarely|     1354|Research & Develo...|               5|        3|       Medical|            1|           153|                      3|Female|        45|             2|       3|             Manager|              1|       Single|        11631|       5615|                 2|     Y|      No|               12|                3|                       4|           80|               0|               14|                    6|              3|            11|                10|                      5|                   8|\n",
            "| 58|      Yes|    Travel_Rarely|      147|Research & Develo...|              23|        4|       Medical|            1|           165|                      4|Female|        94|             3|       3|Healthcare Repres...|              4|      Married|        10312|       3465|                 1|     Y|      No|               12|                3|                       4|           80|               1|               40|                    3|              2|            40|                10|                     15|                   6|\n",
            "| 49|       No|    Travel_Rarely|      470|Research & Develo...|              20|        4|       Medical|            1|           170|                      3|Female|        96|             3|       2|Manufacturing Dir...|              1|      Married|         6567|       5549|                 1|     Y|      No|               14|                3|                       3|           80|               0|               16|                    2|              2|            15|                11|                      5|                  11|\n",
            "| 43|       No|Travel_Frequently|      957|Research & Develo...|              28|        3|       Medical|            1|           171|                      2|Female|        72|             4|       1|  Research Scientist|              3|       Single|         4739|      16090|                 4|     Y|      No|               12|                3|                       4|           80|               0|               18|                    2|              3|             3|                 2|                      1|                   2|\n",
            "| 32|      Yes|    Travel_Rarely|     1033|Research & Develo...|               9|        3|       Medical|            1|           190|                      1|Female|        41|             3|       1|Laboratory Techni...|              1|       Single|         4200|      10224|                 7|     Y|      No|               22|                4|                       1|           80|               0|               10|                    2|              4|             5|                 4|                      0|                   4|\n",
            "| 19|       No|    Travel_Rarely|     1181|Research & Develo...|               3|        1|       Medical|            1|           201|                      2|Female|        79|             3|       1|Laboratory Techni...|              2|       Single|         1483|      16102|                 1|     Y|      No|               14|                3|                       4|           80|               0|                1|                    3|              3|             1|                 0|                      0|                   0|\n",
            "| 40|       No|Travel_Frequently|     1395|Research & Develo...|              26|        3|       Medical|            1|           202|                      2|Female|        54|             3|       2|  Research Scientist|              2|     Divorced|         5605|       8504|                 1|     Y|      No|               11|                3|                       1|           80|               1|               20|                    2|              3|            20|                 7|                      2|                  13|\n",
            "| 58|       No|    Travel_Rarely|     1145|Research & Develo...|               9|        3|       Medical|            1|           214|                      2|Female|        75|             2|       1|  Research Scientist|              2|      Married|         3346|      11873|                 4|     Y|     Yes|               20|                4|                       2|           80|               1|                9|                    3|              2|             1|                 0|                      0|                   0|\n",
            "| 31|       No|    Travel_Rarely|      140|Research & Develo...|              12|        1|       Medical|            1|           246|                      3|Female|        95|             3|       1|  Research Scientist|              4|      Married|         3929|       6984|                 8|     Y|     Yes|               23|                4|                       3|           80|               1|                7|                    0|              3|             4|                 2|                      0|                   2|\n",
            "+---+---------+-----------------+---------+--------------------+----------------+---------+--------------+-------------+--------------+-----------------------+------+----------+--------------+--------+--------------------+---------------+-------------+-------------+-----------+------------------+------+--------+-----------------+-----------------+------------------------+-------------+----------------+-----------------+---------------------+---------------+--------------+------------------+-----------------------+--------------------+\n",
            "only showing top 20 rows\n",
            "\n"
          ]
        }
      ]
    },
    {
      "cell_type": "code",
      "source": [
        "#displaying specific data columns only\n",
        "# only selected columns will be displayed\n",
        "# Using filter and select together\n",
        "result11 = ibmdata.filter((ibmdata['Gender']=='Male') & (ibmdata['MaritalStatus'] == 'Married') & (ibmdata['Age']>55))\n",
        "result11.select('Gender','MaritalStatus','Department','Age').show()"
      ],
      "metadata": {
        "colab": {
          "base_uri": "https://localhost:8080/"
        },
        "id": "fUqP1RRdxpn1",
        "outputId": "1780f430-c4b6-427f-ecb7-5e593e2719e8"
      },
      "execution_count": 29,
      "outputs": [
        {
          "output_type": "stream",
          "name": "stdout",
          "text": [
            "+------+-------------+--------------------+---+\n",
            "|Gender|MaritalStatus|          Department|Age|\n",
            "+------+-------------+--------------------+---+\n",
            "|  Male|      Married|Research & Develo...| 59|\n",
            "|  Male|      Married|     Human Resources| 59|\n",
            "|  Male|      Married|Research & Develo...| 57|\n",
            "|  Male|      Married|Research & Develo...| 56|\n",
            "|  Male|      Married|               Sales| 59|\n",
            "|  Male|      Married|Research & Develo...| 56|\n",
            "|  Male|      Married|Research & Develo...| 57|\n",
            "|  Male|      Married|Research & Develo...| 58|\n",
            "|  Male|      Married|Research & Develo...| 56|\n",
            "+------+-------------+--------------------+---+\n",
            "\n"
          ]
        }
      ]
    },
    {
      "cell_type": "code",
      "source": [
        "result12 = ibmdata.filter(ibmdata['Age']>40).select('Age','Gender').show()"
      ],
      "metadata": {
        "colab": {
          "base_uri": "https://localhost:8080/"
        },
        "id": "07p04sk7zhd9",
        "outputId": "390a6fe2-cdc0-4bf4-95d8-e540d92be96a"
      },
      "execution_count": 31,
      "outputs": [
        {
          "output_type": "stream",
          "name": "stdout",
          "text": [
            "+---+------+\n",
            "|Age|Gender|\n",
            "+---+------+\n",
            "| 41|Female|\n",
            "| 49|  Male|\n",
            "| 59|Female|\n",
            "| 53|Female|\n",
            "| 53|Female|\n",
            "| 42|  Male|\n",
            "| 44|Female|\n",
            "| 46|Female|\n",
            "| 44|  Male|\n",
            "| 43|Female|\n",
            "| 50|  Male|\n",
            "| 41|Female|\n",
            "| 46|  Male|\n",
            "| 48|  Male|\n",
            "| 44|Female|\n",
            "| 50|Female|\n",
            "| 59|Female|\n",
            "| 55|Female|\n",
            "| 45|  Male|\n",
            "| 59|Female|\n",
            "+---+------+\n",
            "only showing top 20 rows\n",
            "\n"
          ]
        }
      ]
    },
    {
      "cell_type": "code",
      "source": [
        "result13 = ibmdata.filter(ibmdata['HourlyRate']>80).select('Department').show()"
      ],
      "metadata": {
        "colab": {
          "base_uri": "https://localhost:8080/"
        },
        "id": "AWEdhjOU0CdY",
        "outputId": "93bd6f60-e3b2-4da9-87ba-e6eef6deeb1d"
      },
      "execution_count": 34,
      "outputs": [
        {
          "output_type": "stream",
          "name": "stdout",
          "text": [
            "+--------------------+\n",
            "|          Department|\n",
            "+--------------------+\n",
            "|               Sales|\n",
            "|Research & Develo...|\n",
            "|Research & Develo...|\n",
            "|Research & Develo...|\n",
            "|Research & Develo...|\n",
            "|Research & Develo...|\n",
            "|Research & Develo...|\n",
            "|Research & Develo...|\n",
            "|               Sales|\n",
            "|Research & Develo...|\n",
            "|Research & Develo...|\n",
            "|               Sales|\n",
            "|Research & Develo...|\n",
            "|               Sales|\n",
            "|               Sales|\n",
            "|Research & Develo...|\n",
            "|               Sales|\n",
            "|Research & Develo...|\n",
            "|Research & Develo...|\n",
            "|               Sales|\n",
            "+--------------------+\n",
            "only showing top 20 rows\n",
            "\n"
          ]
        }
      ]
    },
    {
      "cell_type": "code",
      "source": [
        "#Display , department, jobrole of male employees belonging to sales department\n",
        "result13 = ibmdata.filter((ibmdata['Department']=='Sales') &(ibmdata['Gender']=='Male'))\n",
        "result13.select('Department','jobRole').show()\n",
        "\n",
        "\n",
        "\n"
      ],
      "metadata": {
        "colab": {
          "base_uri": "https://localhost:8080/"
        },
        "id": "xtgY8m0O0sUR",
        "outputId": "55d5a41f-b7dc-44c2-fc16-70604a82e038"
      },
      "execution_count": 38,
      "outputs": [
        {
          "output_type": "stream",
          "name": "stdout",
          "text": [
            "+----------+--------------------+\n",
            "|Department|             jobRole|\n",
            "+----------+--------------------+\n",
            "|     Sales|Sales Representative|\n",
            "|     Sales|     Sales Executive|\n",
            "|     Sales|Sales Representative|\n",
            "|     Sales|Sales Representative|\n",
            "|     Sales|     Sales Executive|\n",
            "|     Sales|     Sales Executive|\n",
            "|     Sales|     Sales Executive|\n",
            "|     Sales|     Sales Executive|\n",
            "|     Sales|     Sales Executive|\n",
            "|     Sales|     Sales Executive|\n",
            "|     Sales|Sales Representative|\n",
            "|     Sales|     Sales Executive|\n",
            "|     Sales|     Sales Executive|\n",
            "|     Sales|     Sales Executive|\n",
            "|     Sales|     Sales Executive|\n",
            "|     Sales|     Sales Executive|\n",
            "|     Sales|     Sales Executive|\n",
            "|     Sales|     Sales Executive|\n",
            "|     Sales|             Manager|\n",
            "|     Sales|     Sales Executive|\n",
            "+----------+--------------------+\n",
            "only showing top 20 rows\n",
            "\n"
          ]
        }
      ]
    },
    {
      "cell_type": "code",
      "source": [
        "result15 = ibmdata.filter((ibmdata['Gender']=='Female') & (ibmdata['DailyRate']>150) & (ibmdata['MaritalStatus']=='Married') & (ibmdata['Age']>50))"
      ],
      "metadata": {
        "id": "tfUSVLMt2dCf"
      },
      "execution_count": 49,
      "outputs": []
    },
    {
      "cell_type": "code",
      "source": [
        "result15.select('Age','Attrition','JobRole','MaritalStatus','DailyRate').show()"
      ],
      "metadata": {
        "colab": {
          "base_uri": "https://localhost:8080/"
        },
        "id": "7qT8GV8d3Dch",
        "outputId": "d1d0400e-5dde-4320-e820-3e1c512c2b61"
      },
      "execution_count": 50,
      "outputs": [
        {
          "output_type": "stream",
          "name": "stdout",
          "text": [
            "+---+---------+--------------------+-------------+---------+\n",
            "|Age|Attrition|             JobRole|MaritalStatus|DailyRate|\n",
            "+---+---------+--------------------+-------------+---------+\n",
            "| 59|       No|Laboratory Techni...|      Married|     1324|\n",
            "| 53|       No|             Manager|      Married|     1219|\n",
            "| 54|       No|   Research Director|      Married|     1217|\n",
            "| 59|       No|             Manager|      Married|     1420|\n",
            "| 56|      Yes|  Research Scientist|      Married|      441|\n",
            "| 58|       No|  Research Scientist|      Married|     1145|\n",
            "| 54|       No|     Sales Executive|      Married|     1147|\n",
            "| 51|       No|     Sales Executive|      Married|     1178|\n",
            "| 56|       No|     Sales Executive|      Married|      906|\n",
            "| 52|       No|             Manager|      Married|     1490|\n",
            "| 60|       No|             Manager|      Married|      422|\n",
            "| 60|       No|     Sales Executive|      Married|     1499|\n",
            "| 52|       No|Laboratory Techni...|      Married|     1325|\n",
            "| 51|       No|             Manager|      Married|     1318|\n",
            "| 53|       No|     Sales Executive|      Married|      661|\n",
            "| 52|       No|Manufacturing Dir...|      Married|      890|\n",
            "| 54|       No|Manufacturing Dir...|      Married|     1441|\n",
            "| 52|      Yes|             Manager|      Married|      266|\n",
            "| 54|       No|     Sales Executive|      Married|     1082|\n",
            "| 56|       No|  Research Scientist|      Married|     1240|\n",
            "+---+---------+--------------------+-------------+---------+\n",
            "only showing top 20 rows\n",
            "\n"
          ]
        }
      ]
    },
    {
      "cell_type": "code",
      "source": [
        "result16 = ibmdata.filter(ibmdata.JobRole.startswith(\"S\") & (ibmdata['MaritalStatus']!='Married'))\n",
        "#like filter use krne par while checking the character % should be used if only first character match krna hai to"
      ],
      "metadata": {
        "id": "Fz_Kknmr3dQC"
      },
      "execution_count": 59,
      "outputs": []
    },
    {
      "cell_type": "code",
      "source": [
        "result16.select('JobRole','Department','Age','MaritalStatus').show()"
      ],
      "metadata": {
        "colab": {
          "base_uri": "https://localhost:8080/"
        },
        "id": "0FEsIbSr5mF2",
        "outputId": "a69eaf9c-e34e-4473-9862-fde8046b81dd"
      },
      "execution_count": 60,
      "outputs": [
        {
          "output_type": "stream",
          "name": "stdout",
          "text": [
            "+--------------------+----------+---+-------------+\n",
            "|             JobRole|Department|Age|MaritalStatus|\n",
            "+--------------------+----------+---+-------------+\n",
            "|     Sales Executive|     Sales| 41|       Single|\n",
            "|Sales Representative|     Sales| 36|       Single|\n",
            "|     Sales Executive|     Sales| 27|       Single|\n",
            "|     Sales Executive|     Sales| 34|       Single|\n",
            "|     Sales Executive|     Sales| 46|       Single|\n",
            "|     Sales Executive|     Sales| 44|     Divorced|\n",
            "|     Sales Executive|     Sales| 59|       Single|\n",
            "|     Sales Executive|     Sales| 59|       Single|\n",
            "|     Sales Executive|     Sales| 35|       Single|\n",
            "|Sales Representative|     Sales| 23|     Divorced|\n",
            "|     Sales Executive|     Sales| 46|       Single|\n",
            "|     Sales Executive|     Sales| 51|       Single|\n",
            "|     Sales Executive|     Sales| 30|     Divorced|\n",
            "|     Sales Executive|     Sales| 32|       Single|\n",
            "|     Sales Executive|     Sales| 58|       Single|\n",
            "|     Sales Executive|     Sales| 25|       Single|\n",
            "|     Sales Executive|     Sales| 37|       Single|\n",
            "|Sales Representative|     Sales| 19|       Single|\n",
            "|     Sales Executive|     Sales| 50|       Single|\n",
            "|     Sales Executive|     Sales| 41|     Divorced|\n",
            "+--------------------+----------+---+-------------+\n",
            "only showing top 20 rows\n",
            "\n"
          ]
        }
      ]
    },
    {
      "cell_type": "code",
      "source": [
        ""
      ],
      "metadata": {
        "id": "NUp25DO76JTk"
      },
      "execution_count": null,
      "outputs": []
    }
  ]
}