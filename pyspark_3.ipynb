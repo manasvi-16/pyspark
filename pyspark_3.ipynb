{
  "nbformat": 4,
  "nbformat_minor": 0,
  "metadata": {
    "colab": {
      "name": "pyspark_3.ipynb",
      "provenance": []
    },
    "kernelspec": {
      "name": "python3",
      "display_name": "Python 3"
    },
    "language_info": {
      "name": "python"
    }
  },
  "cells": [
    {
      "cell_type": "code",
      "execution_count": 1,
      "metadata": {
        "colab": {
          "base_uri": "https://localhost:8080/"
        },
        "id": "fC7Dmygjzpin",
        "outputId": "e08eac65-27a1-4372-f73a-7bd0916b67b5"
      },
      "outputs": [
        {
          "output_type": "stream",
          "name": "stdout",
          "text": [
            "Collecting pyspark\n",
            "  Downloading pyspark-3.2.1.tar.gz (281.4 MB)\n",
            "\u001b[K     |████████████████████████████████| 281.4 MB 33 kB/s \n",
            "\u001b[?25hCollecting py4j==0.10.9.3\n",
            "  Downloading py4j-0.10.9.3-py2.py3-none-any.whl (198 kB)\n",
            "\u001b[K     |████████████████████████████████| 198 kB 55.4 MB/s \n",
            "\u001b[?25hBuilding wheels for collected packages: pyspark\n",
            "  Building wheel for pyspark (setup.py) ... \u001b[?25l\u001b[?25hdone\n",
            "  Created wheel for pyspark: filename=pyspark-3.2.1-py2.py3-none-any.whl size=281853642 sha256=bb93edf3d5015a81fec348d27cb753ed97e8f15cd7a7b72ff142679dcea86126\n",
            "  Stored in directory: /root/.cache/pip/wheels/9f/f5/07/7cd8017084dce4e93e84e92efd1e1d5334db05f2e83bcef74f\n",
            "Successfully built pyspark\n",
            "Installing collected packages: py4j, pyspark\n",
            "Successfully installed py4j-0.10.9.3 pyspark-3.2.1\n"
          ]
        }
      ],
      "source": [
        "!pip install pyspark"
      ]
    },
    {
      "cell_type": "code",
      "source": [
        "!pip install wget"
      ],
      "metadata": {
        "colab": {
          "base_uri": "https://localhost:8080/"
        },
        "id": "Hc53zQZizu9J",
        "outputId": "2f69c1de-6991-4e46-e4b1-5b96320007a1"
      },
      "execution_count": 2,
      "outputs": [
        {
          "output_type": "stream",
          "name": "stdout",
          "text": [
            "Collecting wget\n",
            "  Downloading wget-3.2.zip (10 kB)\n",
            "Building wheels for collected packages: wget\n",
            "  Building wheel for wget (setup.py) ... \u001b[?25l\u001b[?25hdone\n",
            "  Created wheel for wget: filename=wget-3.2-py3-none-any.whl size=9675 sha256=6498661e66968b0678b108b24127775b6f43e340c065d41a449c8e0d35eecf55\n",
            "  Stored in directory: /root/.cache/pip/wheels/a1/b6/7c/0e63e34eb06634181c63adacca38b79ff8f35c37e3c13e3c02\n",
            "Successfully built wget\n",
            "Installing collected packages: wget\n",
            "Successfully installed wget-3.2\n"
          ]
        }
      ]
    },
    {
      "cell_type": "code",
      "source": [
        "import wget\n",
        "# wget works only on .zip or on .csv on any source site\n",
        "wget.download(\"https://github.com/futurexskill/bigdata/raw/master/retailstore_large.zip\")\n",
        "# you can also change the name and provide the name that you want to save it as after putting a comma"
      ],
      "metadata": {
        "colab": {
          "base_uri": "https://localhost:8080/",
          "height": 35
        },
        "id": "dlzUlfItzyb-",
        "outputId": "2750b5b2-854d-4a70-f3e0-f0cae37ea560"
      },
      "execution_count": 3,
      "outputs": [
        {
          "output_type": "execute_result",
          "data": {
            "text/plain": [
              "'retailstore_large.zip'"
            ],
            "application/vnd.google.colaboratory.intrinsic+json": {
              "type": "string"
            }
          },
          "metadata": {},
          "execution_count": 3
        }
      ]
    },
    {
      "cell_type": "code",
      "source": [
        "#Extracting data from zip file\n",
        "from zipfile import ZipFile\n"
      ],
      "metadata": {
        "id": "sKhZhcBVz3Sn"
      },
      "execution_count": 4,
      "outputs": []
    },
    {
      "cell_type": "code",
      "source": [
        "with ZipFile (\"retailstore_large.zip\",'r') as file:\n",
        "  file.extractall('retaildir')"
      ],
      "metadata": {
        "id": "0u-FibZO0ALe"
      },
      "execution_count": 6,
      "outputs": []
    },
    {
      "cell_type": "code",
      "source": [
        "from pyspark import SparkConf, SparkContext"
      ],
      "metadata": {
        "id": "vKcD7Fdv0EkA"
      },
      "execution_count": 7,
      "outputs": []
    },
    {
      "cell_type": "code",
      "source": [
        "if __name__ == \"__main__\":\n",
        "  conf = SparkConf().setAppName(\"trail\").setMaster(\"local[2]\")\n",
        "  sc = SparkContext(conf=conf)"
      ],
      "metadata": {
        "id": "rckPUkR_0LCm"
      },
      "execution_count": 8,
      "outputs": []
    },
    {
      "cell_type": "code",
      "source": [
        "data = sc.textFile(\"retaildir/retailstore_large.csv\")"
      ],
      "metadata": {
        "id": "5UPvuiNR0Pv6"
      },
      "execution_count": 9,
      "outputs": []
    },
    {
      "cell_type": "code",
      "source": [
        "data.take(5)"
      ],
      "metadata": {
        "colab": {
          "base_uri": "https://localhost:8080/"
        },
        "id": "UtbQhPtX0U6F",
        "outputId": "20d94acd-a4e4-46da-a1ea-f57245c4f594"
      },
      "execution_count": 10,
      "outputs": [
        {
          "output_type": "execute_result",
          "data": {
            "text/plain": [
              "['CustomerID,Age,Salary,Gender,Country',\n",
              " '1,18,20000,Male,Germany',\n",
              " '2,19,22000,Female,France',\n",
              " '3,20,24000,Female,England',\n",
              " '4,21,2600,Male,England']"
            ]
          },
          "metadata": {},
          "execution_count": 10
        }
      ]
    },
    {
      "cell_type": "markdown",
      "source": [
        "Flatmap: a faltmap helps you simply put all the things in a same place"
      ],
      "metadata": {
        "id": "pqi_3h7b0dVN"
      }
    },
    {
      "cell_type": "code",
      "source": [
        "result = data.flatMap(lambda x: x.split(\",\"))\n",
        "#jab humne isko comma ke basis par split kiya toh har comma ke bad wale data ko wo naya treat krta hai aur sare words ek jagah list me le ata hai wo\n",
        "result.take(20)"
      ],
      "metadata": {
        "colab": {
          "base_uri": "https://localhost:8080/"
        },
        "id": "16X7L4CN0Xo-",
        "outputId": "a70ae602-fb97-44d8-a2b5-49b04697e3c9"
      },
      "execution_count": 11,
      "outputs": [
        {
          "output_type": "execute_result",
          "data": {
            "text/plain": [
              "['CustomerID',\n",
              " 'Age',\n",
              " 'Salary',\n",
              " 'Gender',\n",
              " 'Country',\n",
              " '1',\n",
              " '18',\n",
              " '20000',\n",
              " 'Male',\n",
              " 'Germany',\n",
              " '2',\n",
              " '19',\n",
              " '22000',\n",
              " 'Female',\n",
              " 'France',\n",
              " '3',\n",
              " '20',\n",
              " '24000',\n",
              " 'Female',\n",
              " 'England']"
            ]
          },
          "metadata": {},
          "execution_count": 11
        }
      ]
    },
    {
      "cell_type": "code",
      "source": [
        "result.coalesce(2).saveAsTextFile(result.csv)"
      ],
      "metadata": {
        "colab": {
          "base_uri": "https://localhost:8080/",
          "height": 165
        },
        "id": "iVP4CfMn0jqP",
        "outputId": "21822f34-9b2b-4675-ab66-49a65964a533"
      },
      "execution_count": 12,
      "outputs": [
        {
          "output_type": "error",
          "ename": "AttributeError",
          "evalue": "ignored",
          "traceback": [
            "\u001b[0;31m---------------------------------------------------------------------------\u001b[0m",
            "\u001b[0;31mAttributeError\u001b[0m                            Traceback (most recent call last)",
            "\u001b[0;32m<ipython-input-12-ee0c4315a1ef>\u001b[0m in \u001b[0;36m<module>\u001b[0;34m()\u001b[0m\n\u001b[0;32m----> 1\u001b[0;31m \u001b[0mresult\u001b[0m\u001b[0;34m.\u001b[0m\u001b[0mcoalesce\u001b[0m\u001b[0;34m(\u001b[0m\u001b[0;36m2\u001b[0m\u001b[0;34m)\u001b[0m\u001b[0;34m.\u001b[0m\u001b[0msaveAsTextFile\u001b[0m\u001b[0;34m(\u001b[0m\u001b[0mresult\u001b[0m\u001b[0;34m.\u001b[0m\u001b[0mcsv\u001b[0m\u001b[0;34m)\u001b[0m\u001b[0;34m\u001b[0m\u001b[0;34m\u001b[0m\u001b[0m\n\u001b[0m",
            "\u001b[0;31mAttributeError\u001b[0m: 'PipelinedRDD' object has no attribute 'csv'"
          ]
        }
      ]
    },
    {
      "cell_type": "code",
      "source": [
        ""
      ],
      "metadata": {
        "id": "PRI8XVeg0pXy"
      },
      "execution_count": null,
      "outputs": []
    }
  ]
}