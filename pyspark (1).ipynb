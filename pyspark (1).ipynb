{
  "nbformat": 4,
  "nbformat_minor": 0,
  "metadata": {
    "colab": {
      "name": "pyspark.ipynb",
      "provenance": []
    },
    "kernelspec": {
      "name": "python3",
      "display_name": "Python 3"
    },
    "language_info": {
      "name": "python"
    }
  },
  "cells": [
    {
      "cell_type": "code",
      "execution_count": 1,
      "metadata": {
        "colab": {
          "base_uri": "https://localhost:8080/"
        },
        "id": "x24-y4Xk4ZJw",
        "outputId": "5c69b695-6c4c-491f-d25f-9c5a04ed5e96"
      },
      "outputs": [
        {
          "output_type": "stream",
          "name": "stdout",
          "text": [
            "Collecting Pyspark\n",
            "  Downloading pyspark-3.2.1.tar.gz (281.4 MB)\n",
            "\u001b[K     |████████████████████████████████| 281.4 MB 32 kB/s \n",
            "\u001b[?25hCollecting py4j==0.10.9.3\n",
            "  Downloading py4j-0.10.9.3-py2.py3-none-any.whl (198 kB)\n",
            "\u001b[K     |████████████████████████████████| 198 kB 51.4 MB/s \n",
            "\u001b[?25hBuilding wheels for collected packages: Pyspark\n",
            "  Building wheel for Pyspark (setup.py) ... \u001b[?25l\u001b[?25hdone\n",
            "  Created wheel for Pyspark: filename=pyspark-3.2.1-py2.py3-none-any.whl size=281853642 sha256=e506dfcc04020ec7a5d1e14431f2c079dd6de4c3a005fc32b77309b1319638dd\n",
            "  Stored in directory: /root/.cache/pip/wheels/9f/f5/07/7cd8017084dce4e93e84e92efd1e1d5334db05f2e83bcef74f\n",
            "Successfully built Pyspark\n",
            "Installing collected packages: py4j, Pyspark\n",
            "Successfully installed Pyspark-3.2.1 py4j-0.10.9.3\n"
          ]
        }
      ],
      "source": [
        "!pip install Pyspark"
      ]
    },
    {
      "cell_type": "code",
      "source": [
        "from pyspark import SparkConf, SparkContext"
      ],
      "metadata": {
        "id": "_j6CtYrB4cMo"
      },
      "execution_count": 2,
      "outputs": []
    },
    {
      "cell_type": "code",
      "source": [
        "if __name__ == \"__main__\":\n",
        "    conf=SparkConf().setAppName(\"second\").setMaster(\"local\")\n",
        "    sc=SparkContext(conf=conf)"
      ],
      "metadata": {
        "id": "92FZwwb446IA"
      },
      "execution_count": 3,
      "outputs": []
    },
    {
      "cell_type": "code",
      "source": [
        "first = sc.parallelize([\"animal tiger\",\"flower lotus\",\"bird peacock\",\"falg tiranga\"])  #parallelize function creates RDD"
      ],
      "metadata": {
        "id": "f0e8_CnV5CRl"
      },
      "execution_count": 4,
      "outputs": []
    },
    {
      "cell_type": "code",
      "source": [
        "symbols = first.map(lambda x:x.split(\" \")[0])"
      ],
      "metadata": {
        "id": "filvBhbR5JaT"
      },
      "execution_count": 5,
      "outputs": []
    },
    {
      "cell_type": "code",
      "source": [
        "symbols.collect()"
      ],
      "metadata": {
        "colab": {
          "base_uri": "https://localhost:8080/"
        },
        "id": "NxxXDkp25N_n",
        "outputId": "6c3a9733-66ce-45e4-ff61-b6c4e2dfe98a"
      },
      "execution_count": 6,
      "outputs": [
        {
          "output_type": "execute_result",
          "data": {
            "text/plain": [
              "['animal', 'flower', 'bird', 'falg']"
            ]
          },
          "metadata": {},
          "execution_count": 6
        }
      ]
    },
    {
      "cell_type": "code",
      "source": [
        "symbols.count()"
      ],
      "metadata": {
        "colab": {
          "base_uri": "https://localhost:8080/"
        },
        "id": "k3Hmc8tOVa2n",
        "outputId": "7a73689c-f44b-48e6-e7d5-956217da2c6f"
      },
      "execution_count": 22,
      "outputs": [
        {
          "output_type": "execute_result",
          "data": {
            "text/plain": [
              "4"
            ]
          },
          "metadata": {},
          "execution_count": 22
        }
      ]
    },
    {
      "cell_type": "code",
      "source": [
        "values = first.map(lambda x:x.split(\" \")[1])\n",
        "values.collect()"
      ],
      "metadata": {
        "colab": {
          "base_uri": "https://localhost:8080/"
        },
        "id": "qRipQTia5SB5",
        "outputId": "249cad6e-eff3-4c16-ad4b-97c30f683061"
      },
      "execution_count": 7,
      "outputs": [
        {
          "output_type": "execute_result",
          "data": {
            "text/plain": [
              "['tiger', 'lotus', 'peacock', 'tiranga']"
            ]
          },
          "metadata": {},
          "execution_count": 7
        }
      ]
    },
    {
      "cell_type": "code",
      "source": [
        "final = first.map(lambda x:(x.split(\" \")[0], x.split(\" \")[1]))\n",
        "final.collect()"
      ],
      "metadata": {
        "colab": {
          "base_uri": "https://localhost:8080/"
        },
        "id": "woOBnuBS5WUO",
        "outputId": "6c23cfdf-1c53-4070-c62c-57c7dc22090e"
      },
      "execution_count": 8,
      "outputs": [
        {
          "output_type": "execute_result",
          "data": {
            "text/plain": [
              "[('animal', 'tiger'),\n",
              " ('flower', 'lotus'),\n",
              " ('bird', 'peacock'),\n",
              " ('falg', 'tiranga')]"
            ]
          },
          "metadata": {},
          "execution_count": 8
        }
      ]
    },
    {
      "cell_type": "code",
      "source": [
        "final.coalesce(1).saveAsTextFile(\"Myfirst.csv\")"
      ],
      "metadata": {
        "id": "Zir6X4Xe5dGB"
      },
      "execution_count": 9,
      "outputs": []
    },
    {
      "cell_type": "code",
      "source": [
        "values.coalesce(1).saveAsTextFile(\"Mysecond.csv\")"
      ],
      "metadata": {
        "id": "VAxXBmgI5toH"
      },
      "execution_count": 10,
      "outputs": []
    },
    {
      "cell_type": "markdown",
      "source": [
        "Working with dataset and RDD --\n",
        "data set ki file upload krne ke liye usko pehle colab me upload krna h fr uska path dalna hai"
      ],
      "metadata": {
        "id": "1GRCV23u7Hmy"
      }
    },
    {
      "cell_type": "code",
      "source": [
        "newRDD = sc.textFile(\"/IBMdata (2).csv\")"
      ],
      "metadata": {
        "id": "Bdrf-VGN7Lxp"
      },
      "execution_count": 16,
      "outputs": []
    },
    {
      "cell_type": "code",
      "source": [
        "type(newRDD)\n",
        "type(final)"
      ],
      "metadata": {
        "colab": {
          "base_uri": "https://localhost:8080/"
        },
        "id": "WMh-xgiO7QzL",
        "outputId": "4069f654-131b-4345-d625-a2677b018e47"
      },
      "execution_count": 12,
      "outputs": [
        {
          "output_type": "execute_result",
          "data": {
            "text/plain": [
              "pyspark.rdd.PipelinedRDD"
            ]
          },
          "metadata": {},
          "execution_count": 12
        }
      ]
    },
    {
      "cell_type": "code",
      "source": [
        "newRDD.take(5)"
      ],
      "metadata": {
        "colab": {
          "base_uri": "https://localhost:8080/"
        },
        "id": "kdwtYhQR7TZq",
        "outputId": "29c28f37-587b-42b5-b79a-ff459103c723"
      },
      "execution_count": 17,
      "outputs": [
        {
          "output_type": "execute_result",
          "data": {
            "text/plain": [
              "['Age,Attrition,BusinessTravel,DailyRate,Department,DistanceFromHome,Education,EducationField,EmployeeCount,EmployeeNumber,EnvironmentSatisfaction,Gender,HourlyRate,JobInvolvement,JobLevel,JobRole,JobSatisfaction,MaritalStatus,MonthlyIncome,MonthlyRate,NumCompaniesWorked,Over18,OverTime,PercentSalaryHike,PerformanceRating,RelationshipSatisfaction,StandardHours,StockOptionLevel,TotalWorkingYears,TrainingTimesLastYear,WorkLifeBalance,YearsAtCompany,YearsInCurrentRole,YearsSinceLastPromotion,YearsWithCurrManager',\n",
              " '41,Yes,Travel_Rarely,1102,Sales,1,2,Life Sciences,1,1,2,Female,94,3,2,Sales Executive,4,Single,5993,19479,8,Y,Yes,11,3,1,80,0,8,0,1,6,4,0,5',\n",
              " '49,No,Travel_Frequently,279,Research & Development,8,1,Life Sciences,1,2,3,Male,61,2,2,Research Scientist,2,Married,5130,24907,1,Y,No,23,4,4,80,1,10,3,3,10,7,1,7',\n",
              " '37,Yes,Travel_Rarely,1373,Research & Development,2,2,Other,1,4,4,Male,92,2,1,Laboratory Technician,3,Single,2090,2396,6,Y,Yes,15,3,2,80,0,7,3,3,0,0,0,0',\n",
              " '33,No,Travel_Frequently,1392,Research & Development,3,4,Life Sciences,1,5,4,Female,56,3,1,Research Scientist,3,Married,2909,23159,1,Y,Yes,11,3,3,80,0,8,3,3,8,7,3,0']"
            ]
          },
          "metadata": {},
          "execution_count": 17
        }
      ]
    },
    {
      "cell_type": "code",
      "source": [
        "age = newRDD.map(lambda x:x.split(\",\")[0])\n",
        "age.take(5)"
      ],
      "metadata": {
        "id": "Y7z_9Ra47V61",
        "colab": {
          "base_uri": "https://localhost:8080/"
        },
        "outputId": "3d110fcb-60ef-4c52-ef51-815f67c392fe"
      },
      "execution_count": 18,
      "outputs": [
        {
          "output_type": "execute_result",
          "data": {
            "text/plain": [
              "['Age', '41', '49', '37', '33']"
            ]
          },
          "metadata": {},
          "execution_count": 18
        }
      ]
    },
    {
      "cell_type": "code",
      "source": [
        "Atrrition = newRDD.map(lambda x:x.split(\",\")[1])\n",
        "Atrrition.take(7)  #7 is the column index"
      ],
      "metadata": {
        "colab": {
          "base_uri": "https://localhost:8080/"
        },
        "id": "xYMOXHTcSmko",
        "outputId": "bc1abde0-b808-43c1-e1ed-860d2530e8a4"
      },
      "execution_count": 21,
      "outputs": [
        {
          "output_type": "execute_result",
          "data": {
            "text/plain": [
              "['Attrition', 'Yes', 'No', 'Yes', 'No', 'No', 'No']"
            ]
          },
          "metadata": {},
          "execution_count": 21
        }
      ]
    },
    {
      "cell_type": "code",
      "source": [
        "Atrrition.coalesce(1).saveAsTextFile(\"Newdata.csv\")"
      ],
      "metadata": {
        "id": "kHbz-lm2SnS3"
      },
      "execution_count": 24,
      "outputs": []
    },
    {
      "cell_type": "code",
      "source": [
        "newRDD.count()"
      ],
      "metadata": {
        "colab": {
          "base_uri": "https://localhost:8080/"
        },
        "id": "z_gjdCUaVvEe",
        "outputId": "7de45bf7-a760-4d52-975c-0bda76586784"
      },
      "execution_count": 25,
      "outputs": [
        {
          "output_type": "execute_result",
          "data": {
            "text/plain": [
              "1471"
            ]
          },
          "metadata": {},
          "execution_count": 25
        }
      ]
    },
    {
      "cell_type": "markdown",
      "source": [
        "#### Creating function to perform multiple tasks rather than using lambda function "
      ],
      "metadata": {
        "id": "GJhlYkGRWoBA"
      }
    },
    {
      "cell_type": "code",
      "source": [
        "def myfunc(myrecord):\n",
        "  at = myrecord.split(\",\")[1]\n",
        "  dept = myrecord.split(\",\")[4]\n",
        "  edu = myrecord.split(\",\")[6]\n",
        "  return at + \" Belongs to \" + dept + \" His education is \"+ edu"
      ],
      "metadata": {
        "id": "cJ7aywMdV6GI"
      },
      "execution_count": 32,
      "outputs": []
    },
    {
      "cell_type": "markdown",
      "source": [
        "map fuction applies the user defined function on each and every element of the RDD if it is passed in the map()\n",
        "\n",
        "map function takes input in the form of function it could be lambda function or a user defined function"
      ],
      "metadata": {
        "id": "CQf18zsKXnxV"
      }
    },
    {
      "cell_type": "code",
      "source": [
        "resultRDD = newRDD.map(myfunc)"
      ],
      "metadata": {
        "id": "wxKBVbaHWbOM"
      },
      "execution_count": 33,
      "outputs": []
    },
    {
      "cell_type": "code",
      "source": [
        "resultRDD.take(4)"
      ],
      "metadata": {
        "colab": {
          "base_uri": "https://localhost:8080/"
        },
        "id": "X2pryiLyWicW",
        "outputId": "0b6b6bab-5709-4df6-93f8-2501f2924e75"
      },
      "execution_count": 34,
      "outputs": [
        {
          "output_type": "execute_result",
          "data": {
            "text/plain": [
              "['Attrition Belongs to Department His education is Education',\n",
              " 'Yes Belongs to Sales His education is 2',\n",
              " 'No Belongs to Research & Development His education is 1',\n",
              " 'Yes Belongs to Research & Development His education is 2']"
            ]
          },
          "metadata": {},
          "execution_count": 34
        }
      ]
    },
    {
      "cell_type": "markdown",
      "source": [
        "filter function - filters records acc to user needs"
      ],
      "metadata": {
        "id": "rjDA8GllYcDj"
      }
    },
    {
      "cell_type": "code",
      "source": [
        "department = newRDD.map(lambda x: x.split(\",\")[4])"
      ],
      "metadata": {
        "id": "Ewlet3VSWltc"
      },
      "execution_count": 35,
      "outputs": []
    },
    {
      "cell_type": "code",
      "source": [
        "department.take(6)"
      ],
      "metadata": {
        "colab": {
          "base_uri": "https://localhost:8080/"
        },
        "id": "a4S0u4KvYxOP",
        "outputId": "22ddb342-89d4-4429-e564-6caf49879447"
      },
      "execution_count": 36,
      "outputs": [
        {
          "output_type": "execute_result",
          "data": {
            "text/plain": [
              "['Department',\n",
              " 'Sales',\n",
              " 'Research & Development',\n",
              " 'Research & Development',\n",
              " 'Research & Development',\n",
              " 'Research & Development']"
            ]
          },
          "metadata": {},
          "execution_count": 36
        }
      ]
    },
    {
      "cell_type": "code",
      "source": [
        "department.count()"
      ],
      "metadata": {
        "colab": {
          "base_uri": "https://localhost:8080/"
        },
        "id": "zqNl9GoAY3Wk",
        "outputId": "a23d2918-25f6-47f9-f5df-d0d08de4bd78"
      },
      "execution_count": 37,
      "outputs": [
        {
          "output_type": "execute_result",
          "data": {
            "text/plain": [
              "1471"
            ]
          },
          "metadata": {},
          "execution_count": 37
        }
      ]
    },
    {
      "cell_type": "code",
      "source": [
        "#filtering sales department\n",
        "selectdept = department.filter(lambda x: \"Sales\" in x)"
      ],
      "metadata": {
        "id": "axvCgQZhZDBI"
      },
      "execution_count": 38,
      "outputs": []
    },
    {
      "cell_type": "code",
      "source": [
        "selectdept.count()  #after tranforming RDD a new RDD is created \n",
        "#already existing RDD se jab hum filter/ extract krte hai to it becomes pipeline RDD"
      ],
      "metadata": {
        "colab": {
          "base_uri": "https://localhost:8080/"
        },
        "id": "CKbtjNT4ZP5c",
        "outputId": "5d960378-9c68-48dc-bb5f-5100bda18e32"
      },
      "execution_count": 41,
      "outputs": [
        {
          "output_type": "execute_result",
          "data": {
            "text/plain": [
              "446"
            ]
          },
          "metadata": {},
          "execution_count": 41
        }
      ]
    },
    {
      "cell_type": "code",
      "source": [
        "# filtering new dept\n",
        "RandD = department.filter(lambda x: \"Research & Development\" in x)\n",
        "RandD.count()"
      ],
      "metadata": {
        "colab": {
          "base_uri": "https://localhost:8080/"
        },
        "id": "UgYFXXiSZTJS",
        "outputId": "27ee8fde-67bb-489c-f907-dee1e27b3ec3"
      },
      "execution_count": 42,
      "outputs": [
        {
          "output_type": "execute_result",
          "data": {
            "text/plain": [
              "961"
            ]
          },
          "metadata": {},
          "execution_count": 42
        }
      ]
    },
    {
      "cell_type": "code",
      "source": [
        ""
      ],
      "metadata": {
        "id": "ZIRhLRiaZwBC"
      },
      "execution_count": null,
      "outputs": []
    }
  ]
}