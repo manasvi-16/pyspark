{
  "nbformat": 4,
  "nbformat_minor": 0,
  "metadata": {
    "colab": {
      "name": "Multiclass_classification.ipynb",
      "provenance": []
    },
    "kernelspec": {
      "name": "python3",
      "display_name": "Python 3"
    },
    "language_info": {
      "name": "python"
    }
  },
  "cells": [
    {
      "cell_type": "code",
      "execution_count": 1,
      "metadata": {
        "colab": {
          "base_uri": "https://localhost:8080/"
        },
        "id": "HtflAogWswjp",
        "outputId": "7b53060d-cb22-4437-eea0-f3413b16ab15"
      },
      "outputs": [
        {
          "output_type": "stream",
          "name": "stdout",
          "text": [
            "Collecting pyspark\n",
            "  Downloading pyspark-3.2.1.tar.gz (281.4 MB)\n",
            "\u001b[K     |████████████████████████████████| 281.4 MB 36 kB/s \n",
            "\u001b[?25hCollecting py4j==0.10.9.3\n",
            "  Downloading py4j-0.10.9.3-py2.py3-none-any.whl (198 kB)\n",
            "\u001b[K     |████████████████████████████████| 198 kB 44.0 MB/s \n",
            "\u001b[?25hBuilding wheels for collected packages: pyspark\n",
            "  Building wheel for pyspark (setup.py) ... \u001b[?25l\u001b[?25hdone\n",
            "  Created wheel for pyspark: filename=pyspark-3.2.1-py2.py3-none-any.whl size=281853642 sha256=79c51937c190ac37e061c823a965cf495e5457a13ea75e720da7a6f70ce450b1\n",
            "  Stored in directory: /root/.cache/pip/wheels/9f/f5/07/7cd8017084dce4e93e84e92efd1e1d5334db05f2e83bcef74f\n",
            "Successfully built pyspark\n",
            "Installing collected packages: py4j, pyspark\n",
            "Successfully installed py4j-0.10.9.3 pyspark-3.2.1\n"
          ]
        }
      ],
      "source": [
        "!pip install pyspark"
      ]
    },
    {
      "cell_type": "code",
      "source": [
        "from pyspark.sql import SparkSession"
      ],
      "metadata": {
        "id": "BSe770rstKXz"
      },
      "execution_count": 2,
      "outputs": []
    },
    {
      "cell_type": "code",
      "source": [
        "session = SparkSession.builder.appName('multiclass').master('local').getOrCreate()\n"
      ],
      "metadata": {
        "id": "pD5kkx9FuIGQ"
      },
      "execution_count": 3,
      "outputs": []
    },
    {
      "cell_type": "code",
      "source": [
        "data = session.read.csv(\"/content/letter_recognition.csv\", header = True, inferSchema = True)"
      ],
      "metadata": {
        "id": "pCY5xE6xzgWo"
      },
      "execution_count": 22,
      "outputs": []
    },
    {
      "cell_type": "code",
      "source": [
        "data.show()"
      ],
      "metadata": {
        "colab": {
          "base_uri": "https://localhost:8080/"
        },
        "id": "nK0CWsbVunQV",
        "outputId": "f0f19ea6-4e7e-4567-d6be-d3e10bd785d0"
      },
      "execution_count": 23,
      "outputs": [
        {
          "output_type": "stream",
          "name": "stdout",
          "text": [
            "+------+----+----+-----+----+-----+----+----+-----+-----+-----+-----+-----+----+-----+----+-----+\n",
            "|letter|xbox|ybox|width|high|onpix|xbar|ybar|x2bar|y2bar|xybar|x2ybr|xy2br|xege|xegvy|yege|yegvx|\n",
            "+------+----+----+-----+----+-----+----+----+-----+-----+-----+-----+-----+----+-----+----+-----+\n",
            "|     T|   2|   8|    3|   5|    1|   8|  13|    0|    6|    6|   10|    8|   0|    8|   0|    8|\n",
            "|     I|   5|  12|    3|   7|    2|  10|   5|    5|    4|   13|    3|    9|   2|    8|   4|   10|\n",
            "|     D|   4|  11|    6|   8|    6|  10|   6|    2|    6|   10|    3|    7|   3|    7|   3|    9|\n",
            "|     N|   7|  11|    6|   6|    3|   5|   9|    4|    6|    4|    4|   10|   6|   10|   2|    8|\n",
            "|     G|   2|   1|    3|   1|    1|   8|   6|    6|    6|    6|    5|    9|   1|    7|   5|   10|\n",
            "|     S|   4|  11|    5|   8|    3|   8|   8|    6|    9|    5|    6|    6|   0|    8|   9|    7|\n",
            "|     B|   4|   2|    5|   4|    4|   8|   7|    6|    6|    7|    6|    6|   2|    8|   7|   10|\n",
            "|     A|   1|   1|    3|   2|    1|   8|   2|    2|    2|    8|    2|    8|   1|    6|   2|    7|\n",
            "|     J|   2|   2|    4|   4|    2|  10|   6|    2|    6|   12|    4|    8|   1|    6|   1|    7|\n",
            "|     M|  11|  15|   13|   9|    7|  13|   2|    6|    2|   12|    1|    9|   8|    1|   1|    8|\n",
            "|     X|   3|   9|    5|   7|    4|   8|   7|    3|    8|    5|    6|    8|   2|    8|   6|    7|\n",
            "|     O|   6|  13|    4|   7|    4|   6|   7|    6|    3|   10|    7|    9|   5|    9|   5|    8|\n",
            "|     G|   4|   9|    6|   7|    6|   7|   8|    6|    2|    6|    5|   11|   4|    8|   7|    8|\n",
            "|     M|   6|   9|    8|   6|    9|   7|   8|    6|    5|    7|    5|    8|   8|    9|   8|    6|\n",
            "|     R|   5|   9|    5|   7|    6|   6|  11|    7|    3|    7|    3|    9|   2|    7|   5|   11|\n",
            "|     F|   6|   9|    5|   4|    3|  10|   6|    3|    5|   10|    5|    7|   3|    9|   6|    9|\n",
            "|     O|   3|   4|    4|   3|    2|   8|   7|    7|    5|    7|    6|    8|   2|    8|   3|    8|\n",
            "|     C|   7|  10|    5|   5|    2|   6|   8|    6|    8|   11|    7|   11|   2|    8|   5|    9|\n",
            "|     T|   6|  11|    6|   8|    5|   6|  11|    5|    6|   11|    9|    4|   3|   12|   2|    4|\n",
            "|     J|   2|   2|    3|   3|    1|  10|   6|    3|    6|   12|    4|    9|   0|    7|   1|    7|\n",
            "+------+----+----+-----+----+-----+----+----+-----+-----+-----+-----+-----+----+-----+----+-----+\n",
            "only showing top 20 rows\n",
            "\n"
          ]
        }
      ]
    },
    {
      "cell_type": "code",
      "source": [
        "from pyspark.ml.feature import StringIndexer"
      ],
      "metadata": {
        "id": "xlsKLGEmurxn"
      },
      "execution_count": 5,
      "outputs": []
    },
    {
      "cell_type": "code",
      "source": [
        "str_obj = StringIndexer(inputCol = 'letter', outputCol = 'newletter')"
      ],
      "metadata": {
        "id": "e5eRAYj3u-gI"
      },
      "execution_count": 25,
      "outputs": []
    },
    {
      "cell_type": "code",
      "source": [
        "data.columns"
      ],
      "metadata": {
        "colab": {
          "base_uri": "https://localhost:8080/"
        },
        "id": "d16i2n9ivfO3",
        "outputId": "1b6612d8-b27d-458f-fb1d-4eab2981d774"
      },
      "execution_count": 24,
      "outputs": [
        {
          "output_type": "execute_result",
          "data": {
            "text/plain": [
              "['letter',\n",
              " 'xbox',\n",
              " 'ybox',\n",
              " 'width',\n",
              " 'high',\n",
              " 'onpix',\n",
              " 'xbar',\n",
              " 'ybar',\n",
              " 'x2bar',\n",
              " 'y2bar',\n",
              " 'xybar',\n",
              " 'x2ybr',\n",
              " 'xy2br',\n",
              " 'xege',\n",
              " 'xegvy',\n",
              " 'yege',\n",
              " 'yegvx']"
            ]
          },
          "metadata": {},
          "execution_count": 24
        }
      ]
    },
    {
      "cell_type": "code",
      "source": [
        "from pyspark.ml.feature import VectorAssembler\n",
        "vec = VectorAssembler(inputCols =['xbox','ybox','width','high','onpix','xbar','ybar','x2bar','y2bar','xybar','x2ybr','xy2br','xege','xegvy','yege','yegvx'], outputCol = 'allfeatures' )"
      ],
      "metadata": {
        "id": "wDhLhpjavL8q"
      },
      "execution_count": 26,
      "outputs": []
    },
    {
      "cell_type": "code",
      "source": [
        "from pyspark.ml.classification import DecisionTreeClassifier"
      ],
      "metadata": {
        "id": "1ng5-SMJvy3o"
      },
      "execution_count": 9,
      "outputs": []
    },
    {
      "cell_type": "code",
      "source": [
        "tree = DecisionTreeClassifier(featuresCol = 'allfeatures', labelCol = \"newletter\")"
      ],
      "metadata": {
        "id": "fM4yM18gwDc2"
      },
      "execution_count": 27,
      "outputs": []
    },
    {
      "cell_type": "code",
      "source": [
        "from pyspark.ml import Pipeline"
      ],
      "metadata": {
        "id": "-zsQeRHewXyh"
      },
      "execution_count": 12,
      "outputs": []
    },
    {
      "cell_type": "code",
      "source": [
        "my_pipeline = Pipeline(stages = [str_obj,vec,tree])"
      ],
      "metadata": {
        "id": "0VHgSq7swjx8"
      },
      "execution_count": 29,
      "outputs": []
    },
    {
      "cell_type": "code",
      "source": [
        "training, test = data.randomSplit([0.75,0.25])"
      ],
      "metadata": {
        "id": "FouNms80xEeD"
      },
      "execution_count": 30,
      "outputs": []
    },
    {
      "cell_type": "code",
      "source": [
        "treemodel = my_pipeline.fit(training)"
      ],
      "metadata": {
        "id": "xVLJlJz5xTX-"
      },
      "execution_count": 31,
      "outputs": []
    },
    {
      "cell_type": "code",
      "source": [
        "results = treemodel.transform(test)"
      ],
      "metadata": {
        "id": "i1880j_FxnDU"
      },
      "execution_count": 35,
      "outputs": []
    },
    {
      "cell_type": "code",
      "source": [
        "results.show(5)"
      ],
      "metadata": {
        "colab": {
          "base_uri": "https://localhost:8080/"
        },
        "id": "6Et4ktG_0ZUt",
        "outputId": "9949399e-dd79-42a4-e257-c8d244d87099"
      },
      "execution_count": 37,
      "outputs": [
        {
          "output_type": "stream",
          "name": "stdout",
          "text": [
            "+------+----+----+-----+----+-----+----+----+-----+-----+-----+-----+-----+----+-----+----+-----+---------+--------------------+--------------------+--------------------+----------+\n",
            "|letter|xbox|ybox|width|high|onpix|xbar|ybar|x2bar|y2bar|xybar|x2ybr|xy2br|xege|xegvy|yege|yegvx|newletter|         allfeatures|       rawPrediction|         probability|prediction|\n",
            "+------+----+----+-----+----+-----+----+----+-----+-----+-----+-----+-----+----+-----+----+-----+---------+--------------------+--------------------+--------------------+----------+\n",
            "|     A|   1|   0|    2|   0|    0|   7|   3|    2|    0|    7|    2|    8|   2|    6|   1|    8|      8.0|[1.0,0.0,2.0,0.0,...|[0.0,0.0,0.0,1.0,...|[0.0,0.0,0.0,0.00...|       8.0|\n",
            "|     A|   1|   0|    2|   0|    0|   7|   4|    2|    0|    7|    2|    8|   1|    7|   1|    8|      8.0|[1.0,0.0,2.0,0.0,...|[0.0,0.0,0.0,1.0,...|[0.0,0.0,0.0,0.00...|       8.0|\n",
            "|     A|   1|   0|    2|   0|    0|   8|   3|    2|    0|    7|    2|    8|   2|    6|   1|    8|      8.0|[1.0,0.0,2.0,0.0,...|[0.0,0.0,0.0,1.0,...|[0.0,0.0,0.0,0.00...|       8.0|\n",
            "|     A|   1|   0|    2|   0|    0|   8|   4|    2|    0|    7|    2|    8|   1|    6|   1|    8|      8.0|[1.0,0.0,2.0,0.0,...|[0.0,0.0,0.0,1.0,...|[0.0,0.0,0.0,0.00...|       8.0|\n",
            "|     A|   1|   0|    2|   1|    0|   7|   4|    2|    0|    7|    2|    8|   2|    7|   1|    8|      8.0|[1.0,0.0,2.0,1.0,...|[0.0,0.0,0.0,1.0,...|[0.0,0.0,0.0,0.00...|       8.0|\n",
            "+------+----+----+-----+----+-----+----+----+-----+-----+-----+-----+-----+----+-----+----+-----+---------+--------------------+--------------------+--------------------+----------+\n",
            "only showing top 5 rows\n",
            "\n"
          ]
        }
      ]
    },
    {
      "cell_type": "code",
      "source": [
        "results.show(5, truncate = False)"
      ],
      "metadata": {
        "colab": {
          "base_uri": "https://localhost:8080/"
        },
        "id": "5OnEUpy51eC9",
        "outputId": "cfdf6aca-ee97-42fd-9fe5-6d8b6b0254fa"
      },
      "execution_count": 38,
      "outputs": [
        {
          "output_type": "stream",
          "name": "stdout",
          "text": [
            "+------+----+----+-----+----+-----+----+----+-----+-----+-----+-----+-----+----+-----+----+-----+---------+-----------------------------------------------------------------+-----------------------------------------------------------------------------------------------------------+------------------------------------------------------------------------------------------------------------------------------------------------------------+----------+\n",
            "|letter|xbox|ybox|width|high|onpix|xbar|ybar|x2bar|y2bar|xybar|x2ybr|xy2br|xege|xegvy|yege|yegvx|newletter|allfeatures                                                      |rawPrediction                                                                                              |probability                                                                                                                                                 |prediction|\n",
            "+------+----+----+-----+----+-----+----+----+-----+-----+-----+-----+-----+----+-----+----+-----+---------+-----------------------------------------------------------------+-----------------------------------------------------------------------------------------------------------+------------------------------------------------------------------------------------------------------------------------------------------------------------+----------+\n",
            "|A     |1   |0   |2    |0   |0    |7   |3   |2    |0    |7    |2    |8    |2   |6    |1   |8    |8.0      |[1.0,0.0,2.0,0.0,0.0,7.0,3.0,2.0,0.0,7.0,2.0,8.0,2.0,6.0,1.0,8.0]|[0.0,0.0,0.0,1.0,0.0,0.0,0.0,0.0,433.0,0.0,0.0,0.0,0.0,0.0,0.0,0.0,0.0,0.0,0.0,0.0,0.0,1.0,0.0,0.0,0.0,0.0]|[0.0,0.0,0.0,0.0022988505747126436,0.0,0.0,0.0,0.0,0.9954022988505747,0.0,0.0,0.0,0.0,0.0,0.0,0.0,0.0,0.0,0.0,0.0,0.0,0.0022988505747126436,0.0,0.0,0.0,0.0]|8.0       |\n",
            "|A     |1   |0   |2    |0   |0    |7   |4   |2    |0    |7    |2    |8    |1   |7    |1   |8    |8.0      |[1.0,0.0,2.0,0.0,0.0,7.0,4.0,2.0,0.0,7.0,2.0,8.0,1.0,7.0,1.0,8.0]|[0.0,0.0,0.0,1.0,0.0,0.0,0.0,0.0,433.0,0.0,0.0,0.0,0.0,0.0,0.0,0.0,0.0,0.0,0.0,0.0,0.0,1.0,0.0,0.0,0.0,0.0]|[0.0,0.0,0.0,0.0022988505747126436,0.0,0.0,0.0,0.0,0.9954022988505747,0.0,0.0,0.0,0.0,0.0,0.0,0.0,0.0,0.0,0.0,0.0,0.0,0.0022988505747126436,0.0,0.0,0.0,0.0]|8.0       |\n",
            "|A     |1   |0   |2    |0   |0    |8   |3   |2    |0    |7    |2    |8    |2   |6    |1   |8    |8.0      |[1.0,0.0,2.0,0.0,0.0,8.0,3.0,2.0,0.0,7.0,2.0,8.0,2.0,6.0,1.0,8.0]|[0.0,0.0,0.0,1.0,0.0,0.0,0.0,0.0,433.0,0.0,0.0,0.0,0.0,0.0,0.0,0.0,0.0,0.0,0.0,0.0,0.0,1.0,0.0,0.0,0.0,0.0]|[0.0,0.0,0.0,0.0022988505747126436,0.0,0.0,0.0,0.0,0.9954022988505747,0.0,0.0,0.0,0.0,0.0,0.0,0.0,0.0,0.0,0.0,0.0,0.0,0.0022988505747126436,0.0,0.0,0.0,0.0]|8.0       |\n",
            "|A     |1   |0   |2    |0   |0    |8   |4   |2    |0    |7    |2    |8    |1   |6    |1   |8    |8.0      |[1.0,0.0,2.0,0.0,0.0,8.0,4.0,2.0,0.0,7.0,2.0,8.0,1.0,6.0,1.0,8.0]|[0.0,0.0,0.0,1.0,0.0,0.0,0.0,0.0,433.0,0.0,0.0,0.0,0.0,0.0,0.0,0.0,0.0,0.0,0.0,0.0,0.0,1.0,0.0,0.0,0.0,0.0]|[0.0,0.0,0.0,0.0022988505747126436,0.0,0.0,0.0,0.0,0.9954022988505747,0.0,0.0,0.0,0.0,0.0,0.0,0.0,0.0,0.0,0.0,0.0,0.0,0.0022988505747126436,0.0,0.0,0.0,0.0]|8.0       |\n",
            "|A     |1   |0   |2    |1   |0    |7   |4   |2    |0    |7    |2    |8    |2   |7    |1   |8    |8.0      |[1.0,0.0,2.0,1.0,0.0,7.0,4.0,2.0,0.0,7.0,2.0,8.0,2.0,7.0,1.0,8.0]|[0.0,0.0,0.0,1.0,0.0,0.0,0.0,0.0,433.0,0.0,0.0,0.0,0.0,0.0,0.0,0.0,0.0,0.0,0.0,0.0,0.0,1.0,0.0,0.0,0.0,0.0]|[0.0,0.0,0.0,0.0022988505747126436,0.0,0.0,0.0,0.0,0.9954022988505747,0.0,0.0,0.0,0.0,0.0,0.0,0.0,0.0,0.0,0.0,0.0,0.0,0.0022988505747126436,0.0,0.0,0.0,0.0]|8.0       |\n",
            "+------+----+----+-----+----+-----+----+----+-----+-----+-----+-----+-----+----+-----+----+-----+---------+-----------------------------------------------------------------+-----------------------------------------------------------------------------------------------------------+------------------------------------------------------------------------------------------------------------------------------------------------------------+----------+\n",
            "only showing top 5 rows\n",
            "\n"
          ]
        }
      ]
    },
    {
      "cell_type": "code",
      "source": [
        "#Here you can not use binaryclassification evaluator; it is used when there are only two variable\n",
        "# So multiclassclassifiactionevaluator will be used because we have 26 variables\n",
        "from pyspark.ml.evaluation import MulticlassClassificationEvaluator"
      ],
      "metadata": {
        "id": "aOz20uQX1qFk"
      },
      "execution_count": 41,
      "outputs": []
    },
    {
      "cell_type": "code",
      "source": [
        "?MulticlassClassificationEvaluator() #for help"
      ],
      "metadata": {
        "id": "rBwemmHD24hZ"
      },
      "execution_count": 42,
      "outputs": []
    },
    {
      "cell_type": "code",
      "source": [
        "evaluator = MulticlassClassificationEvaluator(predictionCol = 'prediction', labelCol = 'newletter')\n",
        "evaluator.evaluate(results)"
      ],
      "metadata": {
        "colab": {
          "base_uri": "https://localhost:8080/"
        },
        "id": "WamSxKAc2J3c",
        "outputId": "cb340003-8deb-423b-f0bb-b1f7a046a1ab"
      },
      "execution_count": 45,
      "outputs": [
        {
          "output_type": "execute_result",
          "data": {
            "text/plain": [
              "0.33291904559175134"
            ]
          },
          "metadata": {},
          "execution_count": 45
        }
      ]
    },
    {
      "cell_type": "code",
      "source": [
        "# introducing different metric names\n",
        "evaluator = MulticlassClassificationEvaluator(predictionCol = 'prediction', labelCol = 'newletter',metricName = 'accuracy')\n",
        "evaluator.evaluate(results)"
      ],
      "metadata": {
        "colab": {
          "base_uri": "https://localhost:8080/"
        },
        "id": "XMVyUQUg3F0b",
        "outputId": "9d2566c0-08b8-41c1-85a7-bf5cf5a26074"
      },
      "execution_count": 46,
      "outputs": [
        {
          "output_type": "execute_result",
          "data": {
            "text/plain": [
              "0.3739612188365651"
            ]
          },
          "metadata": {},
          "execution_count": 46
        }
      ]
    },
    {
      "cell_type": "code",
      "source": [
        "evaluator = MulticlassClassificationEvaluator(predictionCol = 'prediction', labelCol = 'newletter', metricName = 'weightedRecall')\n",
        "evaluator.evaluate(results)"
      ],
      "metadata": {
        "colab": {
          "base_uri": "https://localhost:8080/"
        },
        "id": "bFWAZYqd3ikz",
        "outputId": "580bcc95-01bb-4f28-9b56-5803c840ad92"
      },
      "execution_count": 48,
      "outputs": [
        {
          "output_type": "execute_result",
          "data": {
            "text/plain": [
              "0.37396121883656513"
            ]
          },
          "metadata": {},
          "execution_count": 48
        }
      ]
    },
    {
      "cell_type": "code",
      "source": [
        "# metric names that can be used for checking precision\n",
        "# evaluation (f1|accuracy|weightedPrecision|weightedRecall|weightedTruePositiveRate| weightedFalsePositiveRate|weightedFMeasure|truePositiveRateByLabel| falsePositiveRateByLabel|precisionByLabel|recallByLabel|fMeasureByLabel| logLoss|hammingLoss)')"
      ],
      "metadata": {
        "id": "4vEKjuEg3nt0"
      },
      "execution_count": null,
      "outputs": []
    },
    {
      "cell_type": "code",
      "source": [
        "# another way to check all the metrics\n",
        "metriclist = ['accuracy','weightedPrecision','weightedRecall','weightedTruePositiveRate', 'weightedFalsePositiveRate','weightedFMeasure','truePositiveRateByLabel', 'falsePositiveRateByLabel','precisionByLabel','recallByLabel','fMeasureByLabel', 'logLoss','hammingLoss']\n",
        "for metric in metriclist:\n",
        "  evaluator = MulticlassClassificationEvaluator(predictionCol = 'prediction', labelCol = 'newletter', metricName = metric)\n",
        "  print(metric,\":\",evaluator.evaluate(results))"
      ],
      "metadata": {
        "colab": {
          "base_uri": "https://localhost:8080/"
        },
        "id": "X8mJFxmz5eVE",
        "outputId": "068b0250-7a19-4241-ef2c-fafbebfc83f5"
      },
      "execution_count": 49,
      "outputs": [
        {
          "output_type": "stream",
          "name": "stdout",
          "text": [
            "accuracy : 0.3739612188365651\n",
            "weightedPrecision : 0.41473212462948766\n",
            "weightedRecall : 0.37396121883656513\n",
            "weightedTruePositiveRate : 0.37396121883656513\n",
            "weightedFalsePositiveRate : 0.026334646796937557\n",
            "weightedFMeasure : 0.33291904559175134\n",
            "truePositiveRateByLabel : 0.5523255813953488\n",
            "falsePositiveRateByLabel : 0.013519049569848422\n",
            "precisionByLabel : 0.5900621118012422\n",
            "recallByLabel : 0.5523255813953488\n",
            "fMeasureByLabel : 0.5705705705705705\n",
            "logLoss : 2.0915989459045528\n",
            "hammingLoss : 0.6260387811634349\n"
          ]
        }
      ]
    },
    {
      "cell_type": "code",
      "source": [
        ""
      ],
      "metadata": {
        "id": "uMgNOvhd6uV5"
      },
      "execution_count": null,
      "outputs": []
    }
  ]
}