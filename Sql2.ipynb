{
  "nbformat": 4,
  "nbformat_minor": 0,
  "metadata": {
    "colab": {
      "name": "Sql2.ipynb",
      "provenance": []
    },
    "kernelspec": {
      "name": "python3",
      "display_name": "Python 3"
    },
    "language_info": {
      "name": "python"
    }
  },
  "cells": [
    {
      "cell_type": "code",
      "execution_count": 1,
      "metadata": {
        "colab": {
          "base_uri": "https://localhost:8080/"
        },
        "id": "ygxOkiwxvFMz",
        "outputId": "4443dc94-7e15-425e-a010-f1a1e42a0284"
      },
      "outputs": [
        {
          "output_type": "stream",
          "name": "stdout",
          "text": [
            "Collecting pyspark\n",
            "  Downloading pyspark-3.2.1.tar.gz (281.4 MB)\n",
            "\u001b[K     |████████████████████████████████| 281.4 MB 32 kB/s \n",
            "\u001b[?25hCollecting py4j==0.10.9.3\n",
            "  Downloading py4j-0.10.9.3-py2.py3-none-any.whl (198 kB)\n",
            "\u001b[K     |████████████████████████████████| 198 kB 48.9 MB/s \n",
            "\u001b[?25hBuilding wheels for collected packages: pyspark\n",
            "  Building wheel for pyspark (setup.py) ... \u001b[?25l\u001b[?25hdone\n",
            "  Created wheel for pyspark: filename=pyspark-3.2.1-py2.py3-none-any.whl size=281853642 sha256=77a658f508f522101d3fe9a8f041ff8e0294094052372d33604fe776f2b4ab54\n",
            "  Stored in directory: /root/.cache/pip/wheels/9f/f5/07/7cd8017084dce4e93e84e92efd1e1d5334db05f2e83bcef74f\n",
            "Successfully built pyspark\n",
            "Installing collected packages: py4j, pyspark\n",
            "Successfully installed py4j-0.10.9.3 pyspark-3.2.1\n"
          ]
        }
      ],
      "source": [
        "!pip install pyspark"
      ]
    },
    {
      "cell_type": "code",
      "source": [
        "from pyspark.sql.session import SparkSession"
      ],
      "metadata": {
        "id": "fwlX8b89vMzV"
      },
      "execution_count": 2,
      "outputs": []
    },
    {
      "cell_type": "code",
      "source": [
        "# if __name__ ==\"__main__\": \n",
        "# Even without this there is another way to create a session\n",
        "\n",
        "spark = SparkSession.builder.appName(\"sql2\").master(\"local[2]\").getOrCreate()"
      ],
      "metadata": {
        "id": "mZNaEcpWwHho"
      },
      "execution_count": 3,
      "outputs": []
    },
    {
      "cell_type": "code",
      "source": [
        "# reading a file directly with spark.read\n",
        "ibmdata = spark.read.csv(\"/content/IBMdata.csv\", header = True, inferSchema= True)"
      ],
      "metadata": {
        "id": "zuRXLQLmwkIY"
      },
      "execution_count": 4,
      "outputs": []
    },
    {
      "cell_type": "code",
      "source": [
        "ibmdata.count()"
      ],
      "metadata": {
        "colab": {
          "base_uri": "https://localhost:8080/"
        },
        "id": "Gtj_AJesw38H",
        "outputId": "1ce35d6b-10ad-4d97-c8b0-e6feda9fb2fe"
      },
      "execution_count": 5,
      "outputs": [
        {
          "output_type": "execute_result",
          "data": {
            "text/plain": [
              "1470"
            ]
          },
          "metadata": {},
          "execution_count": 5
        }
      ]
    },
    {
      "cell_type": "code",
      "source": [
        "result = ibmdata.select(\"Gender\",\"Age\").show()\n",
        "# or \n",
        "# ibmdata.select(\"Gender\",\"Age\").show()  aslo works same"
      ],
      "metadata": {
        "colab": {
          "base_uri": "https://localhost:8080/"
        },
        "id": "CBUjAiOGw6_i",
        "outputId": "2d4f6f36-13c3-4b40-d860-ec131f55b6c7"
      },
      "execution_count": 6,
      "outputs": [
        {
          "output_type": "stream",
          "name": "stdout",
          "text": [
            "+------+---+\n",
            "|Gender|Age|\n",
            "+------+---+\n",
            "|Female| 41|\n",
            "|  Male| 49|\n",
            "|  Male| 37|\n",
            "|Female| 33|\n",
            "|  Male| 27|\n",
            "|  Male| 32|\n",
            "|Female| 59|\n",
            "|  Male| 30|\n",
            "|  Male| 38|\n",
            "|  Male| 36|\n",
            "|  Male| 35|\n",
            "|Female| 29|\n",
            "|  Male| 31|\n",
            "|  Male| 34|\n",
            "|  Male| 28|\n",
            "|Female| 29|\n",
            "|  Male| 32|\n",
            "|  Male| 22|\n",
            "|Female| 53|\n",
            "|  Male| 38|\n",
            "+------+---+\n",
            "only showing top 20 rows\n",
            "\n"
          ]
        }
      ]
    },
    {
      "cell_type": "code",
      "source": [
        "ibmdata.select(\"*\").show(5)\n",
        "# selecting all columns for the first 5 rows "
      ],
      "metadata": {
        "colab": {
          "base_uri": "https://localhost:8080/"
        },
        "id": "UpOx0D2BxNsx",
        "outputId": "c3669583-81f6-402d-836c-f52b91376feb"
      },
      "execution_count": 7,
      "outputs": [
        {
          "output_type": "stream",
          "name": "stdout",
          "text": [
            "+---+---------+-----------------+---------+--------------------+----------------+---------+--------------+-------------+--------------+-----------------------+------+----------+--------------+--------+--------------------+---------------+-------------+-------------+-----------+------------------+------+--------+-----------------+-----------------+------------------------+-------------+----------------+-----------------+---------------------+---------------+--------------+------------------+-----------------------+--------------------+\n",
            "|Age|Attrition|   BusinessTravel|DailyRate|          Department|DistanceFromHome|Education|EducationField|EmployeeCount|EmployeeNumber|EnvironmentSatisfaction|Gender|HourlyRate|JobInvolvement|JobLevel|             JobRole|JobSatisfaction|MaritalStatus|MonthlyIncome|MonthlyRate|NumCompaniesWorked|Over18|OverTime|PercentSalaryHike|PerformanceRating|RelationshipSatisfaction|StandardHours|StockOptionLevel|TotalWorkingYears|TrainingTimesLastYear|WorkLifeBalance|YearsAtCompany|YearsInCurrentRole|YearsSinceLastPromotion|YearsWithCurrManager|\n",
            "+---+---------+-----------------+---------+--------------------+----------------+---------+--------------+-------------+--------------+-----------------------+------+----------+--------------+--------+--------------------+---------------+-------------+-------------+-----------+------------------+------+--------+-----------------+-----------------+------------------------+-------------+----------------+-----------------+---------------------+---------------+--------------+------------------+-----------------------+--------------------+\n",
            "| 41|      Yes|    Travel_Rarely|     1102|               Sales|               1|        2| Life Sciences|            1|             1|                      2|Female|        94|             3|       2|     Sales Executive|              4|       Single|         5993|      19479|                 8|     Y|     Yes|               11|                3|                       1|           80|               0|                8|                    0|              1|             6|                 4|                      0|                   5|\n",
            "| 49|       No|Travel_Frequently|      279|Research & Develo...|               8|        1| Life Sciences|            1|             2|                      3|  Male|        61|             2|       2|  Research Scientist|              2|      Married|         5130|      24907|                 1|     Y|      No|               23|                4|                       4|           80|               1|               10|                    3|              3|            10|                 7|                      1|                   7|\n",
            "| 37|      Yes|    Travel_Rarely|     1373|Research & Develo...|               2|        2|         Other|            1|             4|                      4|  Male|        92|             2|       1|Laboratory Techni...|              3|       Single|         2090|       2396|                 6|     Y|     Yes|               15|                3|                       2|           80|               0|                7|                    3|              3|             0|                 0|                      0|                   0|\n",
            "| 33|       No|Travel_Frequently|     1392|Research & Develo...|               3|        4| Life Sciences|            1|             5|                      4|Female|        56|             3|       1|  Research Scientist|              3|      Married|         2909|      23159|                 1|     Y|     Yes|               11|                3|                       3|           80|               0|                8|                    3|              3|             8|                 7|                      3|                   0|\n",
            "| 27|       No|    Travel_Rarely|      591|Research & Develo...|               2|        1|       Medical|            1|             7|                      1|  Male|        40|             3|       1|Laboratory Techni...|              2|      Married|         3468|      16632|                 9|     Y|      No|               12|                3|                       4|           80|               1|                6|                    3|              3|             2|                 2|                      2|                   2|\n",
            "+---+---------+-----------------+---------+--------------------+----------------+---------+--------------+-------------+--------------+-----------------------+------+----------+--------------+--------+--------------------+---------------+-------------+-------------+-----------+------------------+------+--------+-----------------+-----------------+------------------------+-------------+----------------+-----------------+---------------------+---------------+--------------+------------------+-----------------------+--------------------+\n",
            "only showing top 5 rows\n",
            "\n"
          ]
        }
      ]
    },
    {
      "cell_type": "code",
      "source": [
        "ibmdata.printSchema()"
      ],
      "metadata": {
        "colab": {
          "base_uri": "https://localhost:8080/"
        },
        "id": "gYRldN_RxcNE",
        "outputId": "a711565b-c157-43bf-f7a4-e21fcfe41eac"
      },
      "execution_count": 8,
      "outputs": [
        {
          "output_type": "stream",
          "name": "stdout",
          "text": [
            "root\n",
            " |-- Age: integer (nullable = true)\n",
            " |-- Attrition: string (nullable = true)\n",
            " |-- BusinessTravel: string (nullable = true)\n",
            " |-- DailyRate: integer (nullable = true)\n",
            " |-- Department: string (nullable = true)\n",
            " |-- DistanceFromHome: integer (nullable = true)\n",
            " |-- Education: integer (nullable = true)\n",
            " |-- EducationField: string (nullable = true)\n",
            " |-- EmployeeCount: integer (nullable = true)\n",
            " |-- EmployeeNumber: integer (nullable = true)\n",
            " |-- EnvironmentSatisfaction: integer (nullable = true)\n",
            " |-- Gender: string (nullable = true)\n",
            " |-- HourlyRate: integer (nullable = true)\n",
            " |-- JobInvolvement: integer (nullable = true)\n",
            " |-- JobLevel: integer (nullable = true)\n",
            " |-- JobRole: string (nullable = true)\n",
            " |-- JobSatisfaction: integer (nullable = true)\n",
            " |-- MaritalStatus: string (nullable = true)\n",
            " |-- MonthlyIncome: integer (nullable = true)\n",
            " |-- MonthlyRate: integer (nullable = true)\n",
            " |-- NumCompaniesWorked: integer (nullable = true)\n",
            " |-- Over18: string (nullable = true)\n",
            " |-- OverTime: string (nullable = true)\n",
            " |-- PercentSalaryHike: integer (nullable = true)\n",
            " |-- PerformanceRating: integer (nullable = true)\n",
            " |-- RelationshipSatisfaction: integer (nullable = true)\n",
            " |-- StandardHours: integer (nullable = true)\n",
            " |-- StockOptionLevel: integer (nullable = true)\n",
            " |-- TotalWorkingYears: integer (nullable = true)\n",
            " |-- TrainingTimesLastYear: integer (nullable = true)\n",
            " |-- WorkLifeBalance: integer (nullable = true)\n",
            " |-- YearsAtCompany: integer (nullable = true)\n",
            " |-- YearsInCurrentRole: integer (nullable = true)\n",
            " |-- YearsSinceLastPromotion: integer (nullable = true)\n",
            " |-- YearsWithCurrManager: integer (nullable = true)\n",
            "\n"
          ]
        }
      ]
    },
    {
      "cell_type": "code",
      "source": [
        "ibmdata.columns #column is property; jinke bhi age sqaures hai wo functions hai; jiske age tool hai wo property hai"
      ],
      "metadata": {
        "colab": {
          "base_uri": "https://localhost:8080/"
        },
        "id": "I_cQvmICxqkK",
        "outputId": "eaf6f3e4-6765-43db-e7b9-13639e526016"
      },
      "execution_count": 9,
      "outputs": [
        {
          "output_type": "execute_result",
          "data": {
            "text/plain": [
              "['Age',\n",
              " 'Attrition',\n",
              " 'BusinessTravel',\n",
              " 'DailyRate',\n",
              " 'Department',\n",
              " 'DistanceFromHome',\n",
              " 'Education',\n",
              " 'EducationField',\n",
              " 'EmployeeCount',\n",
              " 'EmployeeNumber',\n",
              " 'EnvironmentSatisfaction',\n",
              " 'Gender',\n",
              " 'HourlyRate',\n",
              " 'JobInvolvement',\n",
              " 'JobLevel',\n",
              " 'JobRole',\n",
              " 'JobSatisfaction',\n",
              " 'MaritalStatus',\n",
              " 'MonthlyIncome',\n",
              " 'MonthlyRate',\n",
              " 'NumCompaniesWorked',\n",
              " 'Over18',\n",
              " 'OverTime',\n",
              " 'PercentSalaryHike',\n",
              " 'PerformanceRating',\n",
              " 'RelationshipSatisfaction',\n",
              " 'StandardHours',\n",
              " 'StockOptionLevel',\n",
              " 'TotalWorkingYears',\n",
              " 'TrainingTimesLastYear',\n",
              " 'WorkLifeBalance',\n",
              " 'YearsAtCompany',\n",
              " 'YearsInCurrentRole',\n",
              " 'YearsSinceLastPromotion',\n",
              " 'YearsWithCurrManager']"
            ]
          },
          "metadata": {},
          "execution_count": 9
        }
      ]
    },
    {
      "cell_type": "code",
      "source": [
        "ibmdata.head(2)"
      ],
      "metadata": {
        "colab": {
          "base_uri": "https://localhost:8080/"
        },
        "id": "hc8ZVpO1x09k",
        "outputId": "409a2692-e73e-42f0-ced7-96728e5a6a2a"
      },
      "execution_count": 10,
      "outputs": [
        {
          "output_type": "execute_result",
          "data": {
            "text/plain": [
              "[Row(Age=41, Attrition='Yes', BusinessTravel='Travel_Rarely', DailyRate=1102, Department='Sales', DistanceFromHome=1, Education=2, EducationField='Life Sciences', EmployeeCount=1, EmployeeNumber=1, EnvironmentSatisfaction=2, Gender='Female', HourlyRate=94, JobInvolvement=3, JobLevel=2, JobRole='Sales Executive', JobSatisfaction=4, MaritalStatus='Single', MonthlyIncome=5993, MonthlyRate=19479, NumCompaniesWorked=8, Over18='Y', OverTime='Yes', PercentSalaryHike=11, PerformanceRating=3, RelationshipSatisfaction=1, StandardHours=80, StockOptionLevel=0, TotalWorkingYears=8, TrainingTimesLastYear=0, WorkLifeBalance=1, YearsAtCompany=6, YearsInCurrentRole=4, YearsSinceLastPromotion=0, YearsWithCurrManager=5),\n",
              " Row(Age=49, Attrition='No', BusinessTravel='Travel_Frequently', DailyRate=279, Department='Research & Development', DistanceFromHome=8, Education=1, EducationField='Life Sciences', EmployeeCount=1, EmployeeNumber=2, EnvironmentSatisfaction=3, Gender='Male', HourlyRate=61, JobInvolvement=2, JobLevel=2, JobRole='Research Scientist', JobSatisfaction=2, MaritalStatus='Married', MonthlyIncome=5130, MonthlyRate=24907, NumCompaniesWorked=1, Over18='Y', OverTime='No', PercentSalaryHike=23, PerformanceRating=4, RelationshipSatisfaction=4, StandardHours=80, StockOptionLevel=1, TotalWorkingYears=10, TrainingTimesLastYear=3, WorkLifeBalance=3, YearsAtCompany=10, YearsInCurrentRole=7, YearsSinceLastPromotion=1, YearsWithCurrManager=7)]"
            ]
          },
          "metadata": {},
          "execution_count": 10
        }
      ]
    },
    {
      "cell_type": "code",
      "source": [
        "type(ibmdata) \n",
        "#basic of pyspark is RDD and a dataframe is built upon the RDD. \n",
        "# since the basic building block of spark is RDD therefore all the functions of RDD can be applied to RDD too."
      ],
      "metadata": {
        "colab": {
          "base_uri": "https://localhost:8080/"
        },
        "id": "gOtBRYfEx_EM",
        "outputId": "bd08706a-a8cf-4be5-b598-37dcc011678e"
      },
      "execution_count": 11,
      "outputs": [
        {
          "output_type": "execute_result",
          "data": {
            "text/plain": [
              "pyspark.sql.dataframe.DataFrame"
            ]
          },
          "metadata": {},
          "execution_count": 11
        }
      ]
    },
    {
      "cell_type": "code",
      "source": [
        "#Using RDD functions on ibmdata\n",
        "ibmdata.take(4)"
      ],
      "metadata": {
        "colab": {
          "base_uri": "https://localhost:8080/"
        },
        "id": "_MCT_SrnyBJJ",
        "outputId": "fca5a480-8be8-4b06-d6a1-cb4078663ea0"
      },
      "execution_count": 12,
      "outputs": [
        {
          "output_type": "execute_result",
          "data": {
            "text/plain": [
              "[Row(Age=41, Attrition='Yes', BusinessTravel='Travel_Rarely', DailyRate=1102, Department='Sales', DistanceFromHome=1, Education=2, EducationField='Life Sciences', EmployeeCount=1, EmployeeNumber=1, EnvironmentSatisfaction=2, Gender='Female', HourlyRate=94, JobInvolvement=3, JobLevel=2, JobRole='Sales Executive', JobSatisfaction=4, MaritalStatus='Single', MonthlyIncome=5993, MonthlyRate=19479, NumCompaniesWorked=8, Over18='Y', OverTime='Yes', PercentSalaryHike=11, PerformanceRating=3, RelationshipSatisfaction=1, StandardHours=80, StockOptionLevel=0, TotalWorkingYears=8, TrainingTimesLastYear=0, WorkLifeBalance=1, YearsAtCompany=6, YearsInCurrentRole=4, YearsSinceLastPromotion=0, YearsWithCurrManager=5),\n",
              " Row(Age=49, Attrition='No', BusinessTravel='Travel_Frequently', DailyRate=279, Department='Research & Development', DistanceFromHome=8, Education=1, EducationField='Life Sciences', EmployeeCount=1, EmployeeNumber=2, EnvironmentSatisfaction=3, Gender='Male', HourlyRate=61, JobInvolvement=2, JobLevel=2, JobRole='Research Scientist', JobSatisfaction=2, MaritalStatus='Married', MonthlyIncome=5130, MonthlyRate=24907, NumCompaniesWorked=1, Over18='Y', OverTime='No', PercentSalaryHike=23, PerformanceRating=4, RelationshipSatisfaction=4, StandardHours=80, StockOptionLevel=1, TotalWorkingYears=10, TrainingTimesLastYear=3, WorkLifeBalance=3, YearsAtCompany=10, YearsInCurrentRole=7, YearsSinceLastPromotion=1, YearsWithCurrManager=7),\n",
              " Row(Age=37, Attrition='Yes', BusinessTravel='Travel_Rarely', DailyRate=1373, Department='Research & Development', DistanceFromHome=2, Education=2, EducationField='Other', EmployeeCount=1, EmployeeNumber=4, EnvironmentSatisfaction=4, Gender='Male', HourlyRate=92, JobInvolvement=2, JobLevel=1, JobRole='Laboratory Technician', JobSatisfaction=3, MaritalStatus='Single', MonthlyIncome=2090, MonthlyRate=2396, NumCompaniesWorked=6, Over18='Y', OverTime='Yes', PercentSalaryHike=15, PerformanceRating=3, RelationshipSatisfaction=2, StandardHours=80, StockOptionLevel=0, TotalWorkingYears=7, TrainingTimesLastYear=3, WorkLifeBalance=3, YearsAtCompany=0, YearsInCurrentRole=0, YearsSinceLastPromotion=0, YearsWithCurrManager=0),\n",
              " Row(Age=33, Attrition='No', BusinessTravel='Travel_Frequently', DailyRate=1392, Department='Research & Development', DistanceFromHome=3, Education=4, EducationField='Life Sciences', EmployeeCount=1, EmployeeNumber=5, EnvironmentSatisfaction=4, Gender='Female', HourlyRate=56, JobInvolvement=3, JobLevel=1, JobRole='Research Scientist', JobSatisfaction=3, MaritalStatus='Married', MonthlyIncome=2909, MonthlyRate=23159, NumCompaniesWorked=1, Over18='Y', OverTime='Yes', PercentSalaryHike=11, PerformanceRating=3, RelationshipSatisfaction=3, StandardHours=80, StockOptionLevel=0, TotalWorkingYears=8, TrainingTimesLastYear=3, WorkLifeBalance=3, YearsAtCompany=8, YearsInCurrentRole=7, YearsSinceLastPromotion=3, YearsWithCurrManager=0)]"
            ]
          },
          "metadata": {},
          "execution_count": 12
        }
      ]
    },
    {
      "cell_type": "code",
      "source": [
        "ibmdata.describe()"
      ],
      "metadata": {
        "colab": {
          "base_uri": "https://localhost:8080/"
        },
        "id": "FqCHZfjtyUgU",
        "outputId": "af91930e-422b-4663-9ee0-caa2bb232847"
      },
      "execution_count": 13,
      "outputs": [
        {
          "output_type": "execute_result",
          "data": {
            "text/plain": [
              "DataFrame[summary: string, Age: string, Attrition: string, BusinessTravel: string, DailyRate: string, Department: string, DistanceFromHome: string, Education: string, EducationField: string, EmployeeCount: string, EmployeeNumber: string, EnvironmentSatisfaction: string, Gender: string, HourlyRate: string, JobInvolvement: string, JobLevel: string, JobRole: string, JobSatisfaction: string, MaritalStatus: string, MonthlyIncome: string, MonthlyRate: string, NumCompaniesWorked: string, Over18: string, OverTime: string, PercentSalaryHike: string, PerformanceRating: string, RelationshipSatisfaction: string, StandardHours: string, StockOptionLevel: string, TotalWorkingYears: string, TrainingTimesLastYear: string, WorkLifeBalance: string, YearsAtCompany: string, YearsInCurrentRole: string, YearsSinceLastPromotion: string, YearsWithCurrManager: string]"
            ]
          },
          "metadata": {},
          "execution_count": 13
        }
      ]
    },
    {
      "cell_type": "code",
      "source": [
        "ibmdata.describe().show()"
      ],
      "metadata": {
        "colab": {
          "base_uri": "https://localhost:8080/"
        },
        "id": "oNmWGxEnymQ4",
        "outputId": "ce66d913-be50-4c3b-9c32-a4b6101077ef"
      },
      "execution_count": 14,
      "outputs": [
        {
          "output_type": "stream",
          "name": "stdout",
          "text": [
            "+-------+------------------+---------+--------------+------------------+---------------+----------------+------------------+----------------+-------------+-----------------+-----------------------+------+------------------+------------------+------------------+--------------------+------------------+-------------+-----------------+------------------+------------------+------+--------+------------------+-------------------+------------------------+-------------+------------------+------------------+---------------------+------------------+------------------+------------------+-----------------------+--------------------+\n",
            "|summary|               Age|Attrition|BusinessTravel|         DailyRate|     Department|DistanceFromHome|         Education|  EducationField|EmployeeCount|   EmployeeNumber|EnvironmentSatisfaction|Gender|        HourlyRate|    JobInvolvement|          JobLevel|             JobRole|   JobSatisfaction|MaritalStatus|    MonthlyIncome|       MonthlyRate|NumCompaniesWorked|Over18|OverTime| PercentSalaryHike|  PerformanceRating|RelationshipSatisfaction|StandardHours|  StockOptionLevel| TotalWorkingYears|TrainingTimesLastYear|   WorkLifeBalance|    YearsAtCompany|YearsInCurrentRole|YearsSinceLastPromotion|YearsWithCurrManager|\n",
            "+-------+------------------+---------+--------------+------------------+---------------+----------------+------------------+----------------+-------------+-----------------+-----------------------+------+------------------+------------------+------------------+--------------------+------------------+-------------+-----------------+------------------+------------------+------+--------+------------------+-------------------+------------------------+-------------+------------------+------------------+---------------------+------------------+------------------+------------------+-----------------------+--------------------+\n",
            "|  count|              1470|     1470|          1470|              1470|           1470|            1470|              1470|            1470|         1470|             1470|                   1470|  1470|              1470|              1470|              1470|                1470|              1470|         1470|             1470|              1470|              1470|  1470|    1470|              1470|               1470|                    1470|         1470|              1470|              1470|                 1470|              1470|              1470|              1470|                   1470|                1470|\n",
            "|   mean|36.923809523809524|     null|          null| 802.4857142857143|           null|9.19251700680272| 2.912925170068027|            null|          1.0|1024.865306122449|      2.721768707482993|  null| 65.89115646258503|2.7299319727891156|2.0639455782312925|                null|2.7285714285714286|         null|6502.931292517007|14313.103401360544|2.6931972789115646|  null|    null|15.209523809523809| 3.1537414965986397|      2.7122448979591836|         80.0|0.7938775510204081|11.279591836734694|   2.7993197278911564|2.7612244897959184|7.0081632653061225| 4.229251700680272|     2.1877551020408164|    4.12312925170068|\n",
            "| stddev| 9.135373489136729|     null|          null|403.50909994352804|           null|8.10686443566608|1.0241649445978718|            null|          0.0|602.0243348474752|     1.0930822146350003|  null|20.329427593996176|0.7115611429632297|1.1069398989351202|                null|1.1028461230547213|         null|4707.956783097992| 7117.786044059972|2.4980090060707463|  null|    null|3.6599377165396385|0.36082352460434397|      1.0812088864403517|          0.0|0.8520766679308381| 7.780781675514995|   1.2892706207958466|0.7064758297141507| 6.126525152403571| 3.623137034670627|     3.2224302791379693|  3.5681361205404363|\n",
            "|    min|                18|       No|    Non-Travel|               102|Human Resources|               1|                 1| Human Resources|            1|                1|                      1|Female|                30|                 1|                 1|Healthcare Repres...|                 1|     Divorced|             1009|              2094|                 0|     Y|      No|                11|                  3|                       1|           80|                 0|                 0|                    0|                 1|                 0|                 0|                      0|                   0|\n",
            "|    max|                60|      Yes| Travel_Rarely|              1499|          Sales|              29|                 5|Technical Degree|            1|             2068|                      4|  Male|               100|                 4|                 5|Sales Representative|                 4|       Single|            19999|             26999|                 9|     Y|     Yes|                25|                  4|                       4|           80|                 3|                40|                    6|                 4|                40|                18|                     15|                  17|\n",
            "+-------+------------------+---------+--------------+------------------+---------------+----------------+------------------+----------------+-------------+-----------------+-----------------------+------+------------------+------------------+------------------+--------------------+------------------+-------------+-----------------+------------------+------------------+------+--------+------------------+-------------------+------------------------+-------------+------------------+------------------+---------------------+------------------+------------------+------------------+-----------------------+--------------------+\n",
            "\n"
          ]
        }
      ]
    },
    {
      "cell_type": "code",
      "source": [
        "ibmdata.distinct().show()"
      ],
      "metadata": {
        "colab": {
          "base_uri": "https://localhost:8080/"
        },
        "id": "Xyc3j1_CyvPr",
        "outputId": "b7cf9138-421b-414d-bf9a-6a33331404f8"
      },
      "execution_count": 17,
      "outputs": [
        {
          "output_type": "stream",
          "name": "stdout",
          "text": [
            "+---+---------+-----------------+---------+--------------------+----------------+---------+----------------+-------------+--------------+-----------------------+------+----------+--------------+--------+--------------------+---------------+-------------+-------------+-----------+------------------+------+--------+-----------------+-----------------+------------------------+-------------+----------------+-----------------+---------------------+---------------+--------------+------------------+-----------------------+--------------------+\n",
            "|Age|Attrition|   BusinessTravel|DailyRate|          Department|DistanceFromHome|Education|  EducationField|EmployeeCount|EmployeeNumber|EnvironmentSatisfaction|Gender|HourlyRate|JobInvolvement|JobLevel|             JobRole|JobSatisfaction|MaritalStatus|MonthlyIncome|MonthlyRate|NumCompaniesWorked|Over18|OverTime|PercentSalaryHike|PerformanceRating|RelationshipSatisfaction|StandardHours|StockOptionLevel|TotalWorkingYears|TrainingTimesLastYear|WorkLifeBalance|YearsAtCompany|YearsInCurrentRole|YearsSinceLastPromotion|YearsWithCurrManager|\n",
            "+---+---------+-----------------+---------+--------------------+----------------+---------+----------------+-------------+--------------+-----------------------+------+----------+--------------+--------+--------------------+---------------+-------------+-------------+-----------+------------------+------+--------+-----------------+-----------------+------------------------+-------------+----------------+-----------------+---------------------+---------------+--------------+------------------+-----------------------+--------------------+\n",
            "| 27|       No|    Travel_Rarely|      608|Research & Develo...|               1|        2|   Life Sciences|            1|           725|                      3|Female|        68|             3|       3|Manufacturing Dir...|              1|      Married|         7412|       6009|                 1|     Y|      No|               11|                3|                       4|           80|               0|                9|                    3|              3|             9|                 7|                      0|                   7|\n",
            "| 41|       No|    Travel_Rarely|      314|     Human Resources|               1|        3| Human Resources|            1|           734|                      4|  Male|        59|             2|       5|             Manager|              3|      Married|        19189|      19562|                 1|     Y|      No|               12|                3|                       2|           80|               1|               22|                    3|              3|            22|                 7|                      2|                  10|\n",
            "| 25|       No|    Travel_Rarely|      141|               Sales|               3|        1|           Other|            1|           879|                      3|  Male|        98|             3|       2|     Sales Executive|              1|      Married|         4194|      14363|                 1|     Y|     Yes|               18|                3|                       4|           80|               0|                5|                    3|              3|             5|                 3|                      0|                   3|\n",
            "| 21|      Yes|    Travel_Rarely|     1427|Research & Develo...|              18|        1|           Other|            1|           923|                      4|Female|        65|             3|       1|  Research Scientist|              4|       Single|         2693|       8870|                 1|     Y|      No|               19|                3|                       1|           80|               0|                1|                    3|              2|             1|                 0|                      0|                   0|\n",
            "| 56|       No|    Travel_Rarely|      718|Research & Develo...|               4|        4|Technical Degree|            1|          1191|                      4|Female|        92|             3|       5|             Manager|              1|     Divorced|        19943|      18575|                 4|     Y|      No|               13|                3|                       4|           80|               1|               28|                    2|              3|             5|                 2|                      4|                   2|\n",
            "| 25|       No|    Travel_Rarely|      949|Research & Develo...|               1|        3|Technical Degree|            1|          1415|                      1|  Male|        81|             3|       1|Laboratory Techni...|              4|      Married|         3229|       4910|                 4|     Y|      No|               11|                3|                       2|           80|               1|                7|                    2|              2|             3|                 2|                      0|                   2|\n",
            "| 27|       No|    Travel_Rarely|      591|Research & Develo...|               2|        1|         Medical|            1|             7|                      1|  Male|        40|             3|       1|Laboratory Techni...|              2|      Married|         3468|      16632|                 9|     Y|      No|               12|                3|                       4|           80|               1|                6|                    3|              3|             2|                 2|                      2|                   2|\n",
            "| 34|       No|       Non-Travel|     1065|               Sales|              23|        4|       Marketing|            1|            60|                      2|  Male|        72|             3|       2|     Sales Executive|              3|       Single|         4568|      10034|                 0|     Y|      No|               20|                4|                       3|           80|               0|               10|                    2|              3|             9|                 5|                      8|                   7|\n",
            "| 50|       No|    Travel_Rarely|      328|Research & Develo...|               1|        3|         Medical|            1|           249|                      3|  Male|        86|             2|       1|Laboratory Techni...|              3|      Married|         3690|       3425|                 2|     Y|      No|               15|                3|                       4|           80|               1|                5|                    2|              2|             3|                 2|                      0|                   2|\n",
            "| 25|       No|       Non-Travel|      675|Research & Develo...|               5|        2|   Life Sciences|            1|           369|                      2|  Male|        85|             4|       2|Healthcare Repres...|              1|     Divorced|         4000|      18384|                 1|     Y|      No|               12|                3|                       4|           80|               2|                6|                    2|              3|             6|                 3|                      1|                   5|\n",
            "| 18|      Yes|Travel_Frequently|     1306|               Sales|               5|        3|       Marketing|            1|           614|                      2|  Male|        69|             3|       1|Sales Representative|              2|       Single|         1878|       8059|                 1|     Y|     Yes|               14|                3|                       4|           80|               0|                0|                    3|              3|             0|                 0|                      0|                   0|\n",
            "| 36|       No|    Travel_Rarely|     1425|Research & Develo...|              14|        1|   Life Sciences|            1|           924|                      3|  Male|        68|             3|       2|Healthcare Repres...|              4|      Married|         6586|       4821|                 0|     Y|     Yes|               17|                3|                       1|           80|               1|               17|                    2|              2|            16|                 8|                      4|                  11|\n",
            "| 28|       No|    Travel_Rarely|      950|Research & Develo...|               3|        3|         Medical|            1|          1121|                      4|Female|        93|             3|       3|Manufacturing Dir...|              2|     Divorced|         7655|       8039|                 0|     Y|      No|               17|                3|                       2|           80|               3|               10|                    3|              2|             9|                 7|                      1|                   7|\n",
            "| 30|       No|    Travel_Rarely|      634|Research & Develo...|              17|        4|         Medical|            1|          1321|                      2|Female|        95|             3|       3|             Manager|              1|      Married|        11916|      25927|                 1|     Y|     Yes|               23|                4|                       4|           80|               2|                9|                    2|              3|             9|                 1|                      0|                   8|\n",
            "| 28|       No|    Travel_Rarely|      736|               Sales|              26|        3|   Life Sciences|            1|          1387|                      3|  Male|        48|             2|       2|     Sales Executive|              1|      Married|         4724|      24232|                 1|     Y|      No|               11|                3|                       3|           80|               1|                5|                    0|              3|             5|                 3|                      0|                   4|\n",
            "| 37|       No|    Travel_Rarely|      589|               Sales|               9|        2|       Marketing|            1|          1787|                      2|  Male|        46|             2|       2|     Sales Executive|              2|      Married|         4189|       8800|                 1|     Y|      No|               14|                3|                       1|           80|               2|                5|                    2|              3|             5|                 2|                      0|                   3|\n",
            "| 32|      Yes|Travel_Frequently|      238|Research & Develo...|               5|        2|   Life Sciences|            1|          1939|                      1|Female|        47|             4|       1|  Research Scientist|              3|       Single|         2432|      15318|                 3|     Y|     Yes|               14|                3|                       1|           80|               0|                8|                    2|              3|             4|                 1|                      0|                   3|\n",
            "| 33|       No|Travel_Frequently|      515|Research & Develo...|               1|        2|   Life Sciences|            1|            73|                      1|Female|        98|             3|       3|   Research Director|              4|       Single|        13458|      15146|                 1|     Y|     Yes|               12|                3|                       3|           80|               0|               15|                    1|              3|            15|                14|                      8|                  12|\n",
            "| 45|       No|    Travel_Rarely|     1268|               Sales|               4|        2|   Life Sciences|            1|           240|                      3|Female|        30|             3|       2|     Sales Executive|              1|     Divorced|         5006|       6319|                 4|     Y|     Yes|               11|                3|                       1|           80|               1|                9|                    3|              4|             5|                 4|                      0|                   3|\n",
            "| 29|       No|    Travel_Rarely|     1107|Research & Develo...|              28|        4|   Life Sciences|            1|          1120|                      3|Female|        93|             3|       1|  Research Scientist|              4|     Divorced|         2514|      26968|                 4|     Y|      No|               22|                4|                       1|           80|               1|               11|                    1|              3|             7|                 5|                      1|                   7|\n",
            "+---+---------+-----------------+---------+--------------------+----------------+---------+----------------+-------------+--------------+-----------------------+------+----------+--------------+--------+--------------------+---------------+-------------+-------------+-----------+------------------+------+--------+-----------------+-----------------+------------------------+-------------+----------------+-----------------+---------------------+---------------+--------------+------------------+-----------------------+--------------------+\n",
            "only showing top 20 rows\n",
            "\n"
          ]
        }
      ]
    },
    {
      "cell_type": "code",
      "source": [
        "#removing duplicate data elements from the csv\n",
        "newibm = ibmdata.distinct()\n",
        "newibm.show()"
      ],
      "metadata": {
        "colab": {
          "base_uri": "https://localhost:8080/"
        },
        "id": "hS6snIVny4at",
        "outputId": "3c873a40-aad2-4f72-e25b-27d97469cb63"
      },
      "execution_count": 18,
      "outputs": [
        {
          "output_type": "stream",
          "name": "stdout",
          "text": [
            "+---+---------+-----------------+---------+--------------------+----------------+---------+----------------+-------------+--------------+-----------------------+------+----------+--------------+--------+--------------------+---------------+-------------+-------------+-----------+------------------+------+--------+-----------------+-----------------+------------------------+-------------+----------------+-----------------+---------------------+---------------+--------------+------------------+-----------------------+--------------------+\n",
            "|Age|Attrition|   BusinessTravel|DailyRate|          Department|DistanceFromHome|Education|  EducationField|EmployeeCount|EmployeeNumber|EnvironmentSatisfaction|Gender|HourlyRate|JobInvolvement|JobLevel|             JobRole|JobSatisfaction|MaritalStatus|MonthlyIncome|MonthlyRate|NumCompaniesWorked|Over18|OverTime|PercentSalaryHike|PerformanceRating|RelationshipSatisfaction|StandardHours|StockOptionLevel|TotalWorkingYears|TrainingTimesLastYear|WorkLifeBalance|YearsAtCompany|YearsInCurrentRole|YearsSinceLastPromotion|YearsWithCurrManager|\n",
            "+---+---------+-----------------+---------+--------------------+----------------+---------+----------------+-------------+--------------+-----------------------+------+----------+--------------+--------+--------------------+---------------+-------------+-------------+-----------+------------------+------+--------+-----------------+-----------------+------------------------+-------------+----------------+-----------------+---------------------+---------------+--------------+------------------+-----------------------+--------------------+\n",
            "| 27|       No|    Travel_Rarely|      608|Research & Develo...|               1|        2|   Life Sciences|            1|           725|                      3|Female|        68|             3|       3|Manufacturing Dir...|              1|      Married|         7412|       6009|                 1|     Y|      No|               11|                3|                       4|           80|               0|                9|                    3|              3|             9|                 7|                      0|                   7|\n",
            "| 41|       No|    Travel_Rarely|      314|     Human Resources|               1|        3| Human Resources|            1|           734|                      4|  Male|        59|             2|       5|             Manager|              3|      Married|        19189|      19562|                 1|     Y|      No|               12|                3|                       2|           80|               1|               22|                    3|              3|            22|                 7|                      2|                  10|\n",
            "| 25|       No|    Travel_Rarely|      141|               Sales|               3|        1|           Other|            1|           879|                      3|  Male|        98|             3|       2|     Sales Executive|              1|      Married|         4194|      14363|                 1|     Y|     Yes|               18|                3|                       4|           80|               0|                5|                    3|              3|             5|                 3|                      0|                   3|\n",
            "| 21|      Yes|    Travel_Rarely|     1427|Research & Develo...|              18|        1|           Other|            1|           923|                      4|Female|        65|             3|       1|  Research Scientist|              4|       Single|         2693|       8870|                 1|     Y|      No|               19|                3|                       1|           80|               0|                1|                    3|              2|             1|                 0|                      0|                   0|\n",
            "| 56|       No|    Travel_Rarely|      718|Research & Develo...|               4|        4|Technical Degree|            1|          1191|                      4|Female|        92|             3|       5|             Manager|              1|     Divorced|        19943|      18575|                 4|     Y|      No|               13|                3|                       4|           80|               1|               28|                    2|              3|             5|                 2|                      4|                   2|\n",
            "| 25|       No|    Travel_Rarely|      949|Research & Develo...|               1|        3|Technical Degree|            1|          1415|                      1|  Male|        81|             3|       1|Laboratory Techni...|              4|      Married|         3229|       4910|                 4|     Y|      No|               11|                3|                       2|           80|               1|                7|                    2|              2|             3|                 2|                      0|                   2|\n",
            "| 27|       No|    Travel_Rarely|      591|Research & Develo...|               2|        1|         Medical|            1|             7|                      1|  Male|        40|             3|       1|Laboratory Techni...|              2|      Married|         3468|      16632|                 9|     Y|      No|               12|                3|                       4|           80|               1|                6|                    3|              3|             2|                 2|                      2|                   2|\n",
            "| 34|       No|       Non-Travel|     1065|               Sales|              23|        4|       Marketing|            1|            60|                      2|  Male|        72|             3|       2|     Sales Executive|              3|       Single|         4568|      10034|                 0|     Y|      No|               20|                4|                       3|           80|               0|               10|                    2|              3|             9|                 5|                      8|                   7|\n",
            "| 50|       No|    Travel_Rarely|      328|Research & Develo...|               1|        3|         Medical|            1|           249|                      3|  Male|        86|             2|       1|Laboratory Techni...|              3|      Married|         3690|       3425|                 2|     Y|      No|               15|                3|                       4|           80|               1|                5|                    2|              2|             3|                 2|                      0|                   2|\n",
            "| 25|       No|       Non-Travel|      675|Research & Develo...|               5|        2|   Life Sciences|            1|           369|                      2|  Male|        85|             4|       2|Healthcare Repres...|              1|     Divorced|         4000|      18384|                 1|     Y|      No|               12|                3|                       4|           80|               2|                6|                    2|              3|             6|                 3|                      1|                   5|\n",
            "| 18|      Yes|Travel_Frequently|     1306|               Sales|               5|        3|       Marketing|            1|           614|                      2|  Male|        69|             3|       1|Sales Representative|              2|       Single|         1878|       8059|                 1|     Y|     Yes|               14|                3|                       4|           80|               0|                0|                    3|              3|             0|                 0|                      0|                   0|\n",
            "| 36|       No|    Travel_Rarely|     1425|Research & Develo...|              14|        1|   Life Sciences|            1|           924|                      3|  Male|        68|             3|       2|Healthcare Repres...|              4|      Married|         6586|       4821|                 0|     Y|     Yes|               17|                3|                       1|           80|               1|               17|                    2|              2|            16|                 8|                      4|                  11|\n",
            "| 28|       No|    Travel_Rarely|      950|Research & Develo...|               3|        3|         Medical|            1|          1121|                      4|Female|        93|             3|       3|Manufacturing Dir...|              2|     Divorced|         7655|       8039|                 0|     Y|      No|               17|                3|                       2|           80|               3|               10|                    3|              2|             9|                 7|                      1|                   7|\n",
            "| 30|       No|    Travel_Rarely|      634|Research & Develo...|              17|        4|         Medical|            1|          1321|                      2|Female|        95|             3|       3|             Manager|              1|      Married|        11916|      25927|                 1|     Y|     Yes|               23|                4|                       4|           80|               2|                9|                    2|              3|             9|                 1|                      0|                   8|\n",
            "| 28|       No|    Travel_Rarely|      736|               Sales|              26|        3|   Life Sciences|            1|          1387|                      3|  Male|        48|             2|       2|     Sales Executive|              1|      Married|         4724|      24232|                 1|     Y|      No|               11|                3|                       3|           80|               1|                5|                    0|              3|             5|                 3|                      0|                   4|\n",
            "| 37|       No|    Travel_Rarely|      589|               Sales|               9|        2|       Marketing|            1|          1787|                      2|  Male|        46|             2|       2|     Sales Executive|              2|      Married|         4189|       8800|                 1|     Y|      No|               14|                3|                       1|           80|               2|                5|                    2|              3|             5|                 2|                      0|                   3|\n",
            "| 32|      Yes|Travel_Frequently|      238|Research & Develo...|               5|        2|   Life Sciences|            1|          1939|                      1|Female|        47|             4|       1|  Research Scientist|              3|       Single|         2432|      15318|                 3|     Y|     Yes|               14|                3|                       1|           80|               0|                8|                    2|              3|             4|                 1|                      0|                   3|\n",
            "| 33|       No|Travel_Frequently|      515|Research & Develo...|               1|        2|   Life Sciences|            1|            73|                      1|Female|        98|             3|       3|   Research Director|              4|       Single|        13458|      15146|                 1|     Y|     Yes|               12|                3|                       3|           80|               0|               15|                    1|              3|            15|                14|                      8|                  12|\n",
            "| 45|       No|    Travel_Rarely|     1268|               Sales|               4|        2|   Life Sciences|            1|           240|                      3|Female|        30|             3|       2|     Sales Executive|              1|     Divorced|         5006|       6319|                 4|     Y|     Yes|               11|                3|                       1|           80|               1|                9|                    3|              4|             5|                 4|                      0|                   3|\n",
            "| 29|       No|    Travel_Rarely|     1107|Research & Develo...|              28|        4|   Life Sciences|            1|          1120|                      3|Female|        93|             3|       1|  Research Scientist|              4|     Divorced|         2514|      26968|                 4|     Y|      No|               22|                4|                       1|           80|               1|               11|                    1|              3|             7|                 5|                      1|                   7|\n",
            "+---+---------+-----------------+---------+--------------------+----------------+---------+----------------+-------------+--------------+-----------------------+------+----------+--------------+--------+--------------------+---------------+-------------+-------------+-----------+------------------+------+--------+-----------------+-----------------+------------------------+-------------+----------------+-----------------+---------------------+---------------+--------------+------------------+-----------------------+--------------------+\n",
            "only showing top 20 rows\n",
            "\n"
          ]
        }
      ]
    },
    {
      "cell_type": "code",
      "source": [
        "#count and show function ek sath kam nhi krte hai"
      ],
      "metadata": {
        "id": "HqVIF-vvzSGq"
      },
      "execution_count": 21,
      "outputs": []
    },
    {
      "cell_type": "code",
      "source": [
        "#pyspark built-in functions implemmentations\n",
        "from pyspark.sql.functions import substring,sum,mean,skewness,variance,rank,min,max,countDistinct,first,last,kurtosis,stddev"
      ],
      "metadata": {
        "id": "2u8TfAQwzdCc"
      },
      "execution_count": 26,
      "outputs": []
    },
    {
      "cell_type": "code",
      "source": [
        "print(ibmdata.select(min(\"Age\")).show())\n",
        "# select min(age) from ibmdata in sql querry"
      ],
      "metadata": {
        "colab": {
          "base_uri": "https://localhost:8080/"
        },
        "id": "yjFNb-JM1ChC",
        "outputId": "7b3ac479-0019-450f-d52f-5e0cd1b6bbff"
      },
      "execution_count": 25,
      "outputs": [
        {
          "output_type": "stream",
          "name": "stdout",
          "text": [
            "+--------+\n",
            "|min(Age)|\n",
            "+--------+\n",
            "|      18|\n",
            "+--------+\n",
            "\n",
            "None\n"
          ]
        }
      ]
    },
    {
      "cell_type": "code",
      "source": [
        "print(ibmdata.select(max(\"DailyRate\")).show())"
      ],
      "metadata": {
        "colab": {
          "base_uri": "https://localhost:8080/"
        },
        "id": "E8Dwp08E1hsL",
        "outputId": "581b74d3-f00e-46d8-bc7f-462115fe4e49"
      },
      "execution_count": 32,
      "outputs": [
        {
          "output_type": "stream",
          "name": "stdout",
          "text": [
            "+--------------+-------------------+\n",
            "|max(DailyRate)|kurtosis(DailyRate)|\n",
            "+--------------+-------------------+\n",
            "|          1499|-1.2038109279028495|\n",
            "+--------------+-------------------+\n",
            "\n",
            "None\n"
          ]
        }
      ]
    },
    {
      "cell_type": "code",
      "source": [
        "print(ibmdata.select(sum(\"MonthlyRate\")).show())"
      ],
      "metadata": {
        "colab": {
          "base_uri": "https://localhost:8080/"
        },
        "id": "sGRfJxeC1wCO",
        "outputId": "a61b453e-749b-4358-c1eb-684c9679dce5"
      },
      "execution_count": 30,
      "outputs": [
        {
          "output_type": "stream",
          "name": "stdout",
          "text": [
            "+----------------+\n",
            "|sum(MonthlyRate)|\n",
            "+----------------+\n",
            "|        21040262|\n",
            "+----------------+\n",
            "\n",
            "None\n"
          ]
        }
      ]
    },
    {
      "cell_type": "code",
      "source": [
        "print(ibmdata.select(skewness(\"DailyRate\"), kurtosis(\"DailyRate\")).show())"
      ],
      "metadata": {
        "colab": {
          "base_uri": "https://localhost:8080/"
        },
        "id": "DuPjSQnk2KiP",
        "outputId": "e1f0659f-de56-45d4-a9f2-9de0ace090a8"
      },
      "execution_count": 33,
      "outputs": [
        {
          "output_type": "stream",
          "name": "stdout",
          "text": [
            "+--------------------+-------------------+\n",
            "| skewness(DailyRate)|kurtosis(DailyRate)|\n",
            "+--------------------+-------------------+\n",
            "|-0.00351497695829...|-1.2038109279028495|\n",
            "+--------------------+-------------------+\n",
            "\n",
            "None\n"
          ]
        }
      ]
    },
    {
      "cell_type": "code",
      "source": [
        "print(ibmdata.select(max(\"MonthlyIncome\"), stddev(\"MonthlyIncome\")).show())"
      ],
      "metadata": {
        "colab": {
          "base_uri": "https://localhost:8080/"
        },
        "id": "gneQ3UAI2VNg",
        "outputId": "33f8c05f-b747-4be7-e53d-699cd278160f"
      },
      "execution_count": 36,
      "outputs": [
        {
          "output_type": "stream",
          "name": "stdout",
          "text": [
            "+------------------+--------------------------+\n",
            "|max(MonthlyIncome)|stddev_samp(MonthlyIncome)|\n",
            "+------------------+--------------------------+\n",
            "|             19999|         4707.956783097992|\n",
            "+------------------+--------------------------+\n",
            "\n",
            "None\n"
          ]
        }
      ]
    },
    {
      "cell_type": "code",
      "source": [
        "#jab bhi filter aur select lagaana hia toh pehle filter lagega aur fr badme select\n",
        "print(ibmdata.filter(ibmdata['Gender']=='Male').select(min('Age')).show())"
      ],
      "metadata": {
        "colab": {
          "base_uri": "https://localhost:8080/"
        },
        "id": "EM94YbhY2rhS",
        "outputId": "a80921d4-84ff-434c-f76c-73d616d44743"
      },
      "execution_count": 41,
      "outputs": [
        {
          "output_type": "stream",
          "name": "stdout",
          "text": [
            "+--------+\n",
            "|min(Age)|\n",
            "+--------+\n",
            "|      18|\n",
            "+--------+\n",
            "\n",
            "None\n"
          ]
        }
      ]
    },
    {
      "cell_type": "code",
      "source": [
        "print(ibmdata.select(first('Age'), last('Age')).show())"
      ],
      "metadata": {
        "colab": {
          "base_uri": "https://localhost:8080/"
        },
        "id": "wLzxQgjl3jyz",
        "outputId": "a55dee91-6ff5-4e71-84b7-8fc4305e5d7f"
      },
      "execution_count": 43,
      "outputs": [
        {
          "output_type": "stream",
          "name": "stdout",
          "text": [
            "+----------+---------+\n",
            "|first(Age)|last(Age)|\n",
            "+----------+---------+\n",
            "|        41|       34|\n",
            "+----------+---------+\n",
            "\n",
            "None\n"
          ]
        }
      ]
    },
    {
      "cell_type": "code",
      "source": [
        "#Using Alias to change the heading\n",
        "print(ibmdata.select(first('Age').alias('First'), last('Age').alias(\"Last\")).show())\n",
        "#column name has been changed"
      ],
      "metadata": {
        "colab": {
          "base_uri": "https://localhost:8080/"
        },
        "id": "kBC1fDbg5a37",
        "outputId": "02afad6e-440d-43ce-d288-d5f5a84540f9"
      },
      "execution_count": 44,
      "outputs": [
        {
          "output_type": "stream",
          "name": "stdout",
          "text": [
            "+-----+----+\n",
            "|First|Last|\n",
            "+-----+----+\n",
            "|   41|  34|\n",
            "+-----+----+\n",
            "\n",
            "None\n"
          ]
        }
      ]
    },
    {
      "cell_type": "code",
      "source": [
        "print(ibmdata.select(substring(\"JobRole\", 1,5)).show(5))\n",
        "#showing job role of only first five rows"
      ],
      "metadata": {
        "colab": {
          "base_uri": "https://localhost:8080/"
        },
        "id": "pUCx9l7P50bF",
        "outputId": "ada0ec90-0ae2-4c03-c017-acd733b0bf2a"
      },
      "execution_count": 46,
      "outputs": [
        {
          "output_type": "stream",
          "name": "stdout",
          "text": [
            "+------------------------+\n",
            "|substring(JobRole, 1, 5)|\n",
            "+------------------------+\n",
            "|                   Sales|\n",
            "|                   Resea|\n",
            "|                   Labor|\n",
            "|                   Resea|\n",
            "|                   Labor|\n",
            "+------------------------+\n",
            "only showing top 5 rows\n",
            "\n",
            "None\n"
          ]
        }
      ]
    },
    {
      "cell_type": "code",
      "source": [
        "ibmdata.filter((ibmdata['Department']=='Sales') & (ibmdata['Age']>40)).show()"
      ],
      "metadata": {
        "colab": {
          "base_uri": "https://localhost:8080/"
        },
        "id": "dtz0xQIz6IR7",
        "outputId": "eee7222a-ec65-4000-d66c-c6e5975c4ebd"
      },
      "execution_count": 48,
      "outputs": [
        {
          "output_type": "stream",
          "name": "stdout",
          "text": [
            "+---+---------+-----------------+---------+----------+----------------+---------+--------------+-------------+--------------+-----------------------+------+----------+--------------+--------+--------------------+---------------+-------------+-------------+-----------+------------------+------+--------+-----------------+-----------------+------------------------+-------------+----------------+-----------------+---------------------+---------------+--------------+------------------+-----------------------+--------------------+\n",
            "|Age|Attrition|   BusinessTravel|DailyRate|Department|DistanceFromHome|Education|EducationField|EmployeeCount|EmployeeNumber|EnvironmentSatisfaction|Gender|HourlyRate|JobInvolvement|JobLevel|             JobRole|JobSatisfaction|MaritalStatus|MonthlyIncome|MonthlyRate|NumCompaniesWorked|Over18|OverTime|PercentSalaryHike|PerformanceRating|RelationshipSatisfaction|StandardHours|StockOptionLevel|TotalWorkingYears|TrainingTimesLastYear|WorkLifeBalance|YearsAtCompany|YearsInCurrentRole|YearsSinceLastPromotion|YearsWithCurrManager|\n",
            "+---+---------+-----------------+---------+----------+----------------+---------+--------------+-------------+--------------+-----------------------+------+----------+--------------+--------+--------------------+---------------+-------------+-------------+-----------+------------------+------+--------+-----------------+-----------------+------------------------+-------------+----------------+-----------------+---------------------+---------------+--------------+------------------+-----------------------+--------------------+\n",
            "| 41|      Yes|    Travel_Rarely|     1102|     Sales|               1|        2| Life Sciences|            1|             1|                      2|Female|        94|             3|       2|     Sales Executive|              4|       Single|         5993|      19479|                 8|     Y|     Yes|               11|                3|                       1|           80|               0|                8|                    0|              1|             6|                 4|                      0|                   5|\n",
            "| 53|       No|    Travel_Rarely|     1219|     Sales|               2|        4| Life Sciences|            1|            23|                      1|Female|        78|             2|       4|             Manager|              4|      Married|        15427|      22021|                 2|     Y|      No|               16|                3|                       3|           80|               0|               31|                    3|              3|            25|                 8|                      3|                   7|\n",
            "| 42|       No|    Travel_Rarely|      691|     Sales|               8|        4|     Marketing|            1|            35|                      3|  Male|        48|             3|       2|     Sales Executive|              2|      Married|         6825|      21173|                 0|     Y|      No|               11|                3|                       4|           80|               1|               10|                    2|              3|             9|                 7|                      4|                   2|\n",
            "| 46|       No|    Travel_Rarely|      705|     Sales|               2|        4|     Marketing|            1|            38|                      2|Female|        83|             3|       5|             Manager|              1|       Single|        18947|      22822|                 3|     Y|      No|               12|                3|                       4|           80|               0|               22|                    2|              2|             2|                 2|                      2|                   1|\n",
            "| 50|      Yes|    Travel_Rarely|      869|     Sales|               3|        2|     Marketing|            1|            47|                      1|  Male|        86|             2|       1|Sales Representative|              3|      Married|         2683|       3810|                 1|     Y|     Yes|               14|                3|                       3|           80|               0|                3|                    2|              3|             3|                 2|                      0|                   2|\n",
            "| 46|       No|Travel_Frequently|     1211|     Sales|               5|        4|     Marketing|            1|            62|                      1|  Male|        98|             3|       2|     Sales Executive|              4|       Single|         5772|      20445|                 4|     Y|     Yes|               21|                4|                       3|           80|               0|               14|                    4|              3|             9|                 6|                      0|                   8|\n",
            "| 44|       No|    Travel_Rarely|     1488|     Sales|               1|        5|     Marketing|            1|            68|                      2|Female|        75|             3|       2|     Sales Executive|              1|     Divorced|         5454|       4009|                 5|     Y|     Yes|               21|                4|                       3|           80|               1|                9|                    2|              2|             4|                 3|                      1|                   3|\n",
            "| 59|       No|    Travel_Rarely|     1435|     Sales|              25|        3| Life Sciences|            1|            81|                      1|Female|        99|             3|       3|     Sales Executive|              1|       Single|         7637|       2354|                 7|     Y|      No|               11|                3|                       4|           80|               0|               28|                    3|              2|            21|                16|                      7|                   9|\n",
            "| 59|       No|Travel_Frequently|     1225|     Sales|               1|        1| Life Sciences|            1|            91|                      1|Female|        57|             2|       2|     Sales Executive|              3|       Single|         5473|      24668|                 7|     Y|      No|               11|                3|                       4|           80|               0|               20|                    2|              2|             4|                 3|                      1|                   3|\n",
            "| 55|       No|    Travel_Rarely|      111|     Sales|               1|        2| Life Sciences|            1|           106|                      1|  Male|        70|             3|       3|     Sales Executive|              4|      Married|        10239|      18092|                 3|     Y|      No|               14|                3|                       4|           80|               1|               24|                    4|              3|             1|                 0|                      1|                   0|\n",
            "| 46|      Yes|    Travel_Rarely|      669|     Sales|               9|        2|       Medical|            1|           118|                      3|  Male|        64|             2|       3|     Sales Executive|              4|       Single|         9619|      13596|                 1|     Y|      No|               16|                3|                       4|           80|               0|                9|                    3|              3|             9|                 8|                      4|                   7|\n",
            "| 51|       No|    Travel_Rarely|      632|     Sales|              21|        4|     Marketing|            1|           120|                      3|  Male|        71|             3|       2|     Sales Executive|              4|       Single|         5441|       8423|                 0|     Y|     Yes|               22|                4|                       4|           80|               0|               11|                    2|              1|            10|                 7|                      1|                   0|\n",
            "| 58|       No|    Travel_Rarely|      682|     Sales|              10|        4|       Medical|            1|           131|                      4|  Male|        37|             3|       4|     Sales Executive|              3|       Single|        13872|      24409|                 0|     Y|      No|               13|                3|                       3|           80|               0|               38|                    1|              2|            37|                10|                      1|                   8|\n",
            "| 43|       No|Travel_Frequently|      394|     Sales|              26|        2| Life Sciences|            1|           158|                      3|  Male|        92|             3|       4|             Manager|              4|      Married|        16959|      19494|                 1|     Y|     Yes|               12|                3|                       4|           80|               2|               25|                    3|              4|            25|                12|                      4|                  12|\n",
            "| 50|       No|Travel_Frequently|      809|     Sales|              12|        3|     Marketing|            1|           174|                      3|Female|        77|             3|       3|     Sales Executive|              4|       Single|         9208|       6645|                 4|     Y|      No|               11|                3|                       4|           80|               0|               16|                    3|              3|             2|                 2|                      2|                   1|\n",
            "| 41|       No|    Travel_Rarely|      802|     Sales|               9|        1| Life Sciences|            1|           176|                      3|  Male|        96|             3|       3|     Sales Executive|              3|     Divorced|         8189|      21196|                 3|     Y|     Yes|               13|                3|                       3|           80|               1|               12|                    2|              3|             9|                 7|                      0|                   7|\n",
            "| 53|       No|    Travel_Rarely|     1436|     Sales|               6|        2|     Marketing|            1|           205|                      2|  Male|        34|             3|       2|Sales Representative|              3|      Married|         2306|      16047|                 2|     Y|     Yes|               20|                4|                       4|           80|               1|               13|                    3|              1|             7|                 7|                      4|                   5|\n",
            "| 45|       No|    Travel_Rarely|     1268|     Sales|               4|        2| Life Sciences|            1|           240|                      3|Female|        30|             3|       2|     Sales Executive|              1|     Divorced|         5006|       6319|                 4|     Y|     Yes|               11|                3|                       1|           80|               1|                9|                    3|              4|             5|                 4|                      0|                   3|\n",
            "| 46|       No|    Travel_Rarely|      526|     Sales|               1|        2|     Marketing|            1|           244|                      2|Female|        92|             3|       3|     Sales Executive|              1|     Divorced|        10453|       2137|                 1|     Y|      No|               25|                4|                       3|           80|               3|               24|                    2|              3|            24|                13|                     15|                   7|\n",
            "| 41|      Yes|    Travel_Rarely|     1356|     Sales|              20|        2|     Marketing|            1|           248|                      2|Female|        70|             3|       1|Sales Representative|              2|       Single|         3140|      21728|                 1|     Y|     Yes|               22|                4|                       4|           80|               0|                4|                    5|              2|             4|                 3|                      0|                   2|\n",
            "+---+---------+-----------------+---------+----------+----------------+---------+--------------+-------------+--------------+-----------------------+------+----------+--------------+--------+--------------------+---------------+-------------+-------------+-----------+------------------+------+--------+-----------------+-----------------+------------------------+-------------+----------------+-----------------+---------------------+---------------+--------------+------------------+-----------------------+--------------------+\n",
            "only showing top 20 rows\n",
            "\n"
          ]
        }
      ]
    },
    {
      "cell_type": "code",
      "source": [
        "# countDistinct works as nunique in pandas\n",
        "ibmdata.filter((ibmdata['Department']=='Sales') & (ibmdata['Age']>40)).select(countDistinct('Department')).show()"
      ],
      "metadata": {
        "colab": {
          "base_uri": "https://localhost:8080/"
        },
        "id": "MZAAlZdV6iLl",
        "outputId": "6f176673-8d01-4bc2-ebb3-b01e4e3248fa"
      },
      "execution_count": 51,
      "outputs": [
        {
          "output_type": "stream",
          "name": "stdout",
          "text": [
            "+--------------------------+\n",
            "|count(DISTINCT Department)|\n",
            "+--------------------------+\n",
            "|                         1|\n",
            "+--------------------------+\n",
            "\n"
          ]
        }
      ]
    },
    {
      "cell_type": "code",
      "source": [
        "print(ibmdata.select(countDistinct('JobRole')).show())"
      ],
      "metadata": {
        "colab": {
          "base_uri": "https://localhost:8080/"
        },
        "id": "org1ZQs26tEI",
        "outputId": "c9eda347-c1c9-4583-cf2c-9074005a9cd5"
      },
      "execution_count": 53,
      "outputs": [
        {
          "output_type": "stream",
          "name": "stdout",
          "text": [
            "+-----------------------+\n",
            "|count(DISTINCT JobRole)|\n",
            "+-----------------------+\n",
            "|                      9|\n",
            "+-----------------------+\n",
            "\n",
            "None\n"
          ]
        }
      ]
    },
    {
      "cell_type": "code",
      "source": [
        "from pyspark.sql.functions import sumDistinct, collect_list\n",
        "\n"
      ],
      "metadata": {
        "id": "SJIB52P07nQ9"
      },
      "execution_count": 56,
      "outputs": []
    },
    {
      "cell_type": "code",
      "source": [
        "print(ibmdata.select(collect_list('Department')).show())"
      ],
      "metadata": {
        "colab": {
          "base_uri": "https://localhost:8080/"
        },
        "id": "xclLosDg8tL2",
        "outputId": "013b213d-ca16-4096-d1bd-947b87dbdab8"
      },
      "execution_count": 60,
      "outputs": [
        {
          "output_type": "stream",
          "name": "stdout",
          "text": [
            "+------------------------+\n",
            "|collect_list(Department)|\n",
            "+------------------------+\n",
            "|    [Sales, Research ...|\n",
            "+------------------------+\n",
            "\n",
            "None\n"
          ]
        }
      ]
    },
    {
      "cell_type": "code",
      "source": [
        "from pyspark.sql.functions import count_distinct"
      ],
      "metadata": {
        "id": "fYq6BI-281F_"
      },
      "execution_count": 61,
      "outputs": []
    },
    {
      "cell_type": "code",
      "source": [
        "# for sql \n",
        "# select distinct dept from table\n",
        "print(ibmdata.select('Department').distinct().show(truncate = False))"
      ],
      "metadata": {
        "colab": {
          "base_uri": "https://localhost:8080/"
        },
        "id": "I4t1E1Ks9fnV",
        "outputId": "1f420c99-3464-45e9-bcfe-87d811d3e55f"
      },
      "execution_count": 63,
      "outputs": [
        {
          "output_type": "stream",
          "name": "stdout",
          "text": [
            "+----------------------+\n",
            "|Department            |\n",
            "+----------------------+\n",
            "|Sales                 |\n",
            "|Research & Development|\n",
            "|Human Resources       |\n",
            "+----------------------+\n",
            "\n",
            "None\n"
          ]
        }
      ]
    },
    {
      "cell_type": "code",
      "source": [
        "# Using aggregate function\n",
        "# agg function take dictionary in it; key-value pairs leta hai\n",
        "ibmdata.agg({'Age':'min'}).show()"
      ],
      "metadata": {
        "colab": {
          "base_uri": "https://localhost:8080/"
        },
        "id": "1AenWiMN9lUP",
        "outputId": "47cb4e94-dffc-451e-cb51-421b7d66c962"
      },
      "execution_count": 64,
      "outputs": [
        {
          "output_type": "stream",
          "name": "stdout",
          "text": [
            "+--------+\n",
            "|min(Age)|\n",
            "+--------+\n",
            "|      18|\n",
            "+--------+\n",
            "\n"
          ]
        }
      ]
    },
    {
      "cell_type": "code",
      "source": [
        "ibmdata.agg({'Age':'min','DailyRate':'max', 'MonthlyIncome':'sum'}).show() #multiple functions in one line"
      ],
      "metadata": {
        "colab": {
          "base_uri": "https://localhost:8080/"
        },
        "id": "saMzuLej-7wJ",
        "outputId": "dffa8bc3-aaa0-46ae-8399-1829df9038bf"
      },
      "execution_count": 65,
      "outputs": [
        {
          "output_type": "stream",
          "name": "stdout",
          "text": [
            "+--------------+--------+------------------+\n",
            "|max(DailyRate)|min(Age)|sum(MonthlyIncome)|\n",
            "+--------------+--------+------------------+\n",
            "|          1499|      18|           9559309|\n",
            "+--------------+--------+------------------+\n",
            "\n"
          ]
        }
      ]
    },
    {
      "cell_type": "code",
      "source": [
        "# six diff functions in aggreagate are sum, min, max, mean, median, count\n",
        "# pyspark does not suppory median function"
      ],
      "metadata": {
        "id": "kSd_wx1q_NYP"
      },
      "execution_count": 70,
      "outputs": []
    },
    {
      "cell_type": "code",
      "source": [
        "ibmdata.groupBy('Department').agg({'Dailyrate':'sum'}).show()"
      ],
      "metadata": {
        "colab": {
          "base_uri": "https://localhost:8080/"
        },
        "id": "_PJQmJpF_bCK",
        "outputId": "74d56c52-1c31-4719-d14b-b7d192c5149d"
      },
      "execution_count": 71,
      "outputs": [
        {
          "output_type": "stream",
          "name": "stdout",
          "text": [
            "+--------------------+--------------+\n",
            "|          Department|sum(Dailyrate)|\n",
            "+--------------------+--------------+\n",
            "|               Sales|        356923|\n",
            "|Research & Develo...|        775384|\n",
            "|     Human Resources|         47347|\n",
            "+--------------------+--------------+\n",
            "\n"
          ]
        }
      ]
    },
    {
      "cell_type": "code",
      "source": [
        "ibmdata.orderBy('Dailyrate').show(3) #by default ascending me show hua h"
      ],
      "metadata": {
        "colab": {
          "base_uri": "https://localhost:8080/"
        },
        "id": "12FNusoYA6jy",
        "outputId": "47fb1b0a-0e24-486d-d5db-0f7a61de99ff"
      },
      "execution_count": 72,
      "outputs": [
        {
          "output_type": "stream",
          "name": "stdout",
          "text": [
            "+---+---------+--------------+---------+--------------------+----------------+---------+--------------+-------------+--------------+-----------------------+------+----------+--------------+--------+--------------------+---------------+-------------+-------------+-----------+------------------+------+--------+-----------------+-----------------+------------------------+-------------+----------------+-----------------+---------------------+---------------+--------------+------------------+-----------------------+--------------------+\n",
            "|Age|Attrition|BusinessTravel|DailyRate|          Department|DistanceFromHome|Education|EducationField|EmployeeCount|EmployeeNumber|EnvironmentSatisfaction|Gender|HourlyRate|JobInvolvement|JobLevel|             JobRole|JobSatisfaction|MaritalStatus|MonthlyIncome|MonthlyRate|NumCompaniesWorked|Over18|OverTime|PercentSalaryHike|PerformanceRating|RelationshipSatisfaction|StandardHours|StockOptionLevel|TotalWorkingYears|TrainingTimesLastYear|WorkLifeBalance|YearsAtCompany|YearsInCurrentRole|YearsSinceLastPromotion|YearsWithCurrManager|\n",
            "+---+---------+--------------+---------+--------------------+----------------+---------+--------------+-------------+--------------+-----------------------+------+----------+--------------+--------+--------------------+---------------+-------------+-------------+-----------+------------------+------+--------+-----------------+-----------------+------------------------+-------------+----------------+-----------------+---------------------+---------------+--------------+------------------+-----------------------+--------------------+\n",
            "| 53|       No| Travel_Rarely|      102|Research & Develo...|              23|        4| Life Sciences|            1|           901|                      4|Female|        72|             3|       4|   Research Director|              4|       Single|        14275|      20206|                 6|     Y|      No|               18|                3|                       3|           80|               0|               33|                    0|              3|            12|                 9|                      3|                   8|\n",
            "| 28|      Yes| Travel_Rarely|      103|Research & Develo...|              24|        3| Life Sciences|            1|            19|                      3|  Male|        50|             2|       1|Laboratory Techni...|              3|       Single|         2028|      12947|                 5|     Y|     Yes|               14|                3|                       2|           80|               0|                6|                    4|              3|             4|                 2|                      0|                   3|\n",
            "| 35|      Yes| Travel_Rarely|      104|Research & Develo...|               2|        3| Life Sciences|            1|          1569|                      1|Female|        69|             3|       1|Laboratory Techni...|              1|     Divorced|         2074|      26619|                 1|     Y|     Yes|               12|                3|                       4|           80|               1|                1|                    2|              3|             1|                 0|                      0|                   0|\n",
            "+---+---------+--------------+---------+--------------------+----------------+---------+--------------+-------------+--------------+-----------------------+------+----------+--------------+--------+--------------------+---------------+-------------+-------------+-----------+------------------+------+--------+-----------------+-----------------+------------------------+-------------+----------------+-----------------+---------------------+---------------+--------------+------------------+-----------------------+--------------------+\n",
            "only showing top 3 rows\n",
            "\n"
          ]
        }
      ]
    },
    {
      "cell_type": "code",
      "source": [
        "ibmdata.orderBy('Dailyrate').select('Gender').show(3)\n"
      ],
      "metadata": {
        "colab": {
          "base_uri": "https://localhost:8080/"
        },
        "id": "tG50KomfB99N",
        "outputId": "74351bd8-b6aa-40a1-ac88-890c299f7113"
      },
      "execution_count": 73,
      "outputs": [
        {
          "output_type": "stream",
          "name": "stdout",
          "text": [
            "+------+\n",
            "|Gender|\n",
            "+------+\n",
            "|Female|\n",
            "|  Male|\n",
            "|Female|\n",
            "+------+\n",
            "only showing top 3 rows\n",
            "\n"
          ]
        }
      ]
    },
    {
      "cell_type": "code",
      "source": [
        "data2 = spark.read.csv(\"/content/file.csv\", header = True, inferSchema = True)"
      ],
      "metadata": {
        "id": "sAr4GMCRCdUh"
      },
      "execution_count": 74,
      "outputs": []
    },
    {
      "cell_type": "code",
      "source": [
        "data2.show()"
      ],
      "metadata": {
        "colab": {
          "base_uri": "https://localhost:8080/"
        },
        "id": "41AllidQDJl5",
        "outputId": "b019e062-c171-494d-aaec-8005946b1dea"
      },
      "execution_count": 75,
      "outputs": [
        {
          "output_type": "stream",
          "name": "stdout",
          "text": [
            "+-------+-----+\n",
            "|   name|marks|\n",
            "+-------+-----+\n",
            "|manasvi|   70|\n",
            "|  yanya|   55|\n",
            "| shilpa|   35|\n",
            "|nandini|   78|\n",
            "|   null| null|\n",
            "| harman|   70|\n",
            "|   null| null|\n",
            "|  rajat|   56|\n",
            "+-------+-----+\n",
            "\n"
          ]
        }
      ]
    },
    {
      "cell_type": "code",
      "source": [
        "#handling missing values\n",
        "result1 = data2.na.drop()\n",
        "result1.show()"
      ],
      "metadata": {
        "colab": {
          "base_uri": "https://localhost:8080/"
        },
        "id": "PwfJ2RlqDLPL",
        "outputId": "7b0999ed-8889-4e52-9e57-d7b4c8119b5f"
      },
      "execution_count": 76,
      "outputs": [
        {
          "output_type": "stream",
          "name": "stdout",
          "text": [
            "+-------+-----+\n",
            "|   name|marks|\n",
            "+-------+-----+\n",
            "|manasvi|   70|\n",
            "|  yanya|   55|\n",
            "| shilpa|   35|\n",
            "|nandini|   78|\n",
            "| harman|   70|\n",
            "|  rajat|   56|\n",
            "+-------+-----+\n",
            "\n"
          ]
        }
      ]
    },
    {
      "cell_type": "code",
      "source": [
        "#filling anything in the null places\n",
        "result2 = data2.na.fill('CC') \n",
        "#pehle fill() me string tha toh jis column ka data type str hoga usme hi value fill hoga isiliye marks column me fill nhi hua\n",
        "result2.show()"
      ],
      "metadata": {
        "colab": {
          "base_uri": "https://localhost:8080/"
        },
        "id": "MReMBPN7DSXt",
        "outputId": "ab90a399-92b4-4719-b8cf-a1783a4dcce1"
      },
      "execution_count": 77,
      "outputs": [
        {
          "output_type": "stream",
          "name": "stdout",
          "text": [
            "+-------+-----+\n",
            "|   name|marks|\n",
            "+-------+-----+\n",
            "|manasvi|   70|\n",
            "|  yanya|   55|\n",
            "| shilpa|   35|\n",
            "|nandini|   78|\n",
            "|     CC| null|\n",
            "| harman|   70|\n",
            "|     CC| null|\n",
            "|  rajat|   56|\n",
            "+-------+-----+\n",
            "\n"
          ]
        }
      ]
    },
    {
      "cell_type": "code",
      "source": [
        "result3 = data2.na.fill(50)\n",
        "# is bar fill() me int tha toh marks column fill hua\n",
        "result3.show()"
      ],
      "metadata": {
        "colab": {
          "base_uri": "https://localhost:8080/"
        },
        "id": "ATWRFsxxDr6e",
        "outputId": "99951243-6d0b-4dc6-ac8d-95b386901e3c"
      },
      "execution_count": 78,
      "outputs": [
        {
          "output_type": "stream",
          "name": "stdout",
          "text": [
            "+-------+-----+\n",
            "|   name|marks|\n",
            "+-------+-----+\n",
            "|manasvi|   70|\n",
            "|  yanya|   55|\n",
            "| shilpa|   35|\n",
            "|nandini|   78|\n",
            "|   null|   50|\n",
            "| harman|   70|\n",
            "|   null|   50|\n",
            "|  rajat|   56|\n",
            "+-------+-----+\n",
            "\n"
          ]
        }
      ]
    },
    {
      "cell_type": "code",
      "source": [
        "result4 = data2.na.fill('yy', subset = ['name'])\n",
        "result4.show()"
      ],
      "metadata": {
        "colab": {
          "base_uri": "https://localhost:8080/"
        },
        "id": "of_o2ahDD2xS",
        "outputId": "666f24ff-7801-46e8-e860-008afecebdf3"
      },
      "execution_count": 82,
      "outputs": [
        {
          "output_type": "stream",
          "name": "stdout",
          "text": [
            "+-------+-----+\n",
            "|   name|marks|\n",
            "+-------+-----+\n",
            "|manasvi|   70|\n",
            "|  yanya|   55|\n",
            "| shilpa|   35|\n",
            "|nandini|   78|\n",
            "|     yy| null|\n",
            "| harman|   70|\n",
            "|     yy| null|\n",
            "|  rajat|   56|\n",
            "+-------+-----+\n",
            "\n"
          ]
        }
      ]
    },
    {
      "cell_type": "code",
      "source": [
        "# dropping entries in a specific column rather than dropping it all\n",
        "result5 = data2.na.drop(subset = ['name'])\n",
        "result5.show()"
      ],
      "metadata": {
        "colab": {
          "base_uri": "https://localhost:8080/"
        },
        "id": "BIgeLdHzEQCq",
        "outputId": "41be4525-2efd-4f92-d389-64d1c5b038f7"
      },
      "execution_count": 83,
      "outputs": [
        {
          "output_type": "stream",
          "name": "stdout",
          "text": [
            "+-------+-----+\n",
            "|   name|marks|\n",
            "+-------+-----+\n",
            "|manasvi|   70|\n",
            "|  yanya|   55|\n",
            "| shilpa|   35|\n",
            "|nandini|   78|\n",
            "| harman|   70|\n",
            "|  rajat|   56|\n",
            "+-------+-----+\n",
            "\n"
          ]
        }
      ]
    },
    {
      "cell_type": "code",
      "source": [
        ""
      ],
      "metadata": {
        "id": "axKyJB7LEnKI"
      },
      "execution_count": null,
      "outputs": []
    }
  ]
}